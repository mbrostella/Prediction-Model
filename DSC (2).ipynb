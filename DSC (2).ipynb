{
 "cells": [
  {
   "cell_type": "code",
   "execution_count": 427,
   "metadata": {},
   "outputs": [],
   "source": [
    "import warnings\n",
    "warnings.filterwarnings('ignore')\n",
    "\n",
    "\n",
    "import numpy as np # linear algebra\n",
    "import pandas as pd # data processing, CSV file I/O (e.g. pd.read_csv)\n",
    "import seaborn as sns \n",
    "import matplotlib.pyplot as plt\n",
    "from scipy.stats import zscore, stats"
   ]
  },
  {
   "cell_type": "code",
   "execution_count": 428,
   "metadata": {},
   "outputs": [],
   "source": [
    "traincam = pd.read_csv('train_sdss_camera.csv')\n",
    "trainsky = pd.read_csv('train_sky_position.csv')\n",
    "testcam = pd.read_csv('test_sdss_camera.csv')\n",
    "testsky = pd.read_csv('test_sky_position.csv')"
   ]
  },
  {
   "cell_type": "code",
   "execution_count": 429,
   "metadata": {},
   "outputs": [
    {
     "data": {
      "text/html": [
       "<div>\n",
       "<style scoped>\n",
       "    .dataframe tbody tr th:only-of-type {\n",
       "        vertical-align: middle;\n",
       "    }\n",
       "\n",
       "    .dataframe tbody tr th {\n",
       "        vertical-align: top;\n",
       "    }\n",
       "\n",
       "    .dataframe thead th {\n",
       "        text-align: right;\n",
       "    }\n",
       "</style>\n",
       "<table border=\"1\" class=\"dataframe\">\n",
       "  <thead>\n",
       "    <tr style=\"text-align: right;\">\n",
       "      <th></th>\n",
       "      <th>id</th>\n",
       "      <th>object_type</th>\n",
       "    </tr>\n",
       "  </thead>\n",
       "  <tbody>\n",
       "    <tr>\n",
       "      <th>0</th>\n",
       "      <td>18001</td>\n",
       "      <td>STAR</td>\n",
       "    </tr>\n",
       "    <tr>\n",
       "      <th>1</th>\n",
       "      <td>18002</td>\n",
       "      <td>STAR</td>\n",
       "    </tr>\n",
       "    <tr>\n",
       "      <th>2</th>\n",
       "      <td>18003</td>\n",
       "      <td>STAR</td>\n",
       "    </tr>\n",
       "    <tr>\n",
       "      <th>3</th>\n",
       "      <td>18004</td>\n",
       "      <td>STAR</td>\n",
       "    </tr>\n",
       "    <tr>\n",
       "      <th>4</th>\n",
       "      <td>18005</td>\n",
       "      <td>STAR</td>\n",
       "    </tr>\n",
       "    <tr>\n",
       "      <th>...</th>\n",
       "      <td>...</td>\n",
       "      <td>...</td>\n",
       "    </tr>\n",
       "    <tr>\n",
       "      <th>11995</th>\n",
       "      <td>29996</td>\n",
       "      <td>STAR</td>\n",
       "    </tr>\n",
       "    <tr>\n",
       "      <th>11996</th>\n",
       "      <td>29997</td>\n",
       "      <td>STAR</td>\n",
       "    </tr>\n",
       "    <tr>\n",
       "      <th>11997</th>\n",
       "      <td>29998</td>\n",
       "      <td>STAR</td>\n",
       "    </tr>\n",
       "    <tr>\n",
       "      <th>11998</th>\n",
       "      <td>29999</td>\n",
       "      <td>STAR</td>\n",
       "    </tr>\n",
       "    <tr>\n",
       "      <th>11999</th>\n",
       "      <td>30000</td>\n",
       "      <td>STAR</td>\n",
       "    </tr>\n",
       "  </tbody>\n",
       "</table>\n",
       "<p>12000 rows × 2 columns</p>\n",
       "</div>"
      ],
      "text/plain": [
       "          id object_type\n",
       "0      18001        STAR\n",
       "1      18002        STAR\n",
       "2      18003        STAR\n",
       "3      18004        STAR\n",
       "4      18005        STAR\n",
       "...      ...         ...\n",
       "11995  29996        STAR\n",
       "11996  29997        STAR\n",
       "11997  29998        STAR\n",
       "11998  29999        STAR\n",
       "11999  30000        STAR\n",
       "\n",
       "[12000 rows x 2 columns]"
      ]
     },
     "execution_count": 429,
     "metadata": {},
     "output_type": "execute_result"
    }
   ],
   "source": [
    "sample = pd.read_csv('sample_submission.csv')\n",
    "sample"
   ]
  },
  {
   "cell_type": "code",
   "execution_count": null,
   "metadata": {},
   "outputs": [],
   "source": []
  },
  {
   "cell_type": "code",
   "execution_count": 430,
   "metadata": {},
   "outputs": [],
   "source": [
    "train_data = traincam.merge(trainsky,on='id', how='left')"
   ]
  },
  {
   "cell_type": "code",
   "execution_count": 431,
   "metadata": {},
   "outputs": [
    {
     "data": {
      "text/html": [
       "<div>\n",
       "<style scoped>\n",
       "    .dataframe tbody tr th:only-of-type {\n",
       "        vertical-align: middle;\n",
       "    }\n",
       "\n",
       "    .dataframe tbody tr th {\n",
       "        vertical-align: top;\n",
       "    }\n",
       "\n",
       "    .dataframe thead th {\n",
       "        text-align: right;\n",
       "    }\n",
       "</style>\n",
       "<table border=\"1\" class=\"dataframe\">\n",
       "  <thead>\n",
       "    <tr style=\"text-align: right;\">\n",
       "      <th></th>\n",
       "      <th>id</th>\n",
       "      <th>u</th>\n",
       "      <th>g</th>\n",
       "      <th>r</th>\n",
       "      <th>i</th>\n",
       "      <th>z</th>\n",
       "      <th>run</th>\n",
       "      <th>rerun</th>\n",
       "      <th>camcol</th>\n",
       "      <th>field</th>\n",
       "      <th>ra</th>\n",
       "      <th>dec</th>\n",
       "      <th>sky_zone</th>\n",
       "      <th>object_type</th>\n",
       "    </tr>\n",
       "  </thead>\n",
       "  <tbody>\n",
       "    <tr>\n",
       "      <th>0</th>\n",
       "      <td>1</td>\n",
       "      <td>18.45886</td>\n",
       "      <td>17.24552</td>\n",
       "      <td>16.65724</td>\n",
       "      <td>16.27922</td>\n",
       "      <td>16.07007</td>\n",
       "      <td>3712</td>\n",
       "      <td>301</td>\n",
       "      <td>5</td>\n",
       "      <td>198</td>\n",
       "      <td>214.002267</td>\n",
       "      <td>54.488814</td>\n",
       "      <td>I</td>\n",
       "      <td>GALAXY</td>\n",
       "    </tr>\n",
       "    <tr>\n",
       "      <th>1</th>\n",
       "      <td>2</td>\n",
       "      <td>18.50274</td>\n",
       "      <td>17.50821</td>\n",
       "      <td>17.19507</td>\n",
       "      <td>17.07868</td>\n",
       "      <td>17.08054</td>\n",
       "      <td>3705</td>\n",
       "      <td>301</td>\n",
       "      <td>6</td>\n",
       "      <td>131</td>\n",
       "      <td>220.688333</td>\n",
       "      <td>53.185834</td>\n",
       "      <td>I</td>\n",
       "      <td>STAR</td>\n",
       "    </tr>\n",
       "    <tr>\n",
       "      <th>2</th>\n",
       "      <td>3</td>\n",
       "      <td>18.69451</td>\n",
       "      <td>17.30333</td>\n",
       "      <td>16.48301</td>\n",
       "      <td>16.05570</td>\n",
       "      <td>15.75763</td>\n",
       "      <td>5323</td>\n",
       "      <td>301</td>\n",
       "      <td>5</td>\n",
       "      <td>140</td>\n",
       "      <td>249.118754</td>\n",
       "      <td>12.091483</td>\n",
       "      <td>E</td>\n",
       "      <td>GALAXY</td>\n",
       "    </tr>\n",
       "    <tr>\n",
       "      <th>3</th>\n",
       "      <td>4</td>\n",
       "      <td>19.34373</td>\n",
       "      <td>18.32701</td>\n",
       "      <td>17.97602</td>\n",
       "      <td>17.82627</td>\n",
       "      <td>17.75770</td>\n",
       "      <td>8108</td>\n",
       "      <td>301</td>\n",
       "      <td>4</td>\n",
       "      <td>57</td>\n",
       "      <td>330.633293</td>\n",
       "      <td>18.920049</td>\n",
       "      <td>C</td>\n",
       "      <td>STAR</td>\n",
       "    </tr>\n",
       "    <tr>\n",
       "      <th>4</th>\n",
       "      <td>5</td>\n",
       "      <td>19.33328</td>\n",
       "      <td>18.13790</td>\n",
       "      <td>17.58180</td>\n",
       "      <td>17.21341</td>\n",
       "      <td>16.99397</td>\n",
       "      <td>4187</td>\n",
       "      <td>301</td>\n",
       "      <td>2</td>\n",
       "      <td>107</td>\n",
       "      <td>NaN</td>\n",
       "      <td>-0.813704</td>\n",
       "      <td>C</td>\n",
       "      <td>GALAXY</td>\n",
       "    </tr>\n",
       "    <tr>\n",
       "      <th>...</th>\n",
       "      <td>...</td>\n",
       "      <td>...</td>\n",
       "      <td>...</td>\n",
       "      <td>...</td>\n",
       "      <td>...</td>\n",
       "      <td>...</td>\n",
       "      <td>...</td>\n",
       "      <td>...</td>\n",
       "      <td>...</td>\n",
       "      <td>...</td>\n",
       "      <td>...</td>\n",
       "      <td>...</td>\n",
       "      <td>...</td>\n",
       "      <td>...</td>\n",
       "    </tr>\n",
       "    <tr>\n",
       "      <th>17995</th>\n",
       "      <td>17996</td>\n",
       "      <td>19.07518</td>\n",
       "      <td>19.04164</td>\n",
       "      <td>18.97759</td>\n",
       "      <td>18.69354</td>\n",
       "      <td>18.71167</td>\n",
       "      <td>3958</td>\n",
       "      <td>301</td>\n",
       "      <td>5</td>\n",
       "      <td>35</td>\n",
       "      <td>235.370451</td>\n",
       "      <td>38.001041</td>\n",
       "      <td>G</td>\n",
       "      <td>QUASAR</td>\n",
       "    </tr>\n",
       "    <tr>\n",
       "      <th>17996</th>\n",
       "      <td>17997</td>\n",
       "      <td>17.45299</td>\n",
       "      <td>15.95391</td>\n",
       "      <td>15.18684</td>\n",
       "      <td>14.75107</td>\n",
       "      <td>14.41128</td>\n",
       "      <td>5314</td>\n",
       "      <td>301</td>\n",
       "      <td>2</td>\n",
       "      <td>260</td>\n",
       "      <td>216.986622</td>\n",
       "      <td>16.389357</td>\n",
       "      <td>E</td>\n",
       "      <td>GALAXY</td>\n",
       "    </tr>\n",
       "    <tr>\n",
       "      <th>17997</th>\n",
       "      <td>17998</td>\n",
       "      <td>19.58603</td>\n",
       "      <td>19.33562</td>\n",
       "      <td>19.12988</td>\n",
       "      <td>18.97954</td>\n",
       "      <td>19.03011</td>\n",
       "      <td>4682</td>\n",
       "      <td>301</td>\n",
       "      <td>2</td>\n",
       "      <td>239</td>\n",
       "      <td>259.534158</td>\n",
       "      <td>38.102033</td>\n",
       "      <td>G</td>\n",
       "      <td>QUASAR</td>\n",
       "    </tr>\n",
       "    <tr>\n",
       "      <th>17998</th>\n",
       "      <td>17999</td>\n",
       "      <td>16.87792</td>\n",
       "      <td>15.76577</td>\n",
       "      <td>15.39156</td>\n",
       "      <td>15.24989</td>\n",
       "      <td>15.22452</td>\n",
       "      <td>2125</td>\n",
       "      <td>301</td>\n",
       "      <td>2</td>\n",
       "      <td>278</td>\n",
       "      <td>160.472715</td>\n",
       "      <td>3.796510</td>\n",
       "      <td>B</td>\n",
       "      <td>STAR</td>\n",
       "    </tr>\n",
       "    <tr>\n",
       "      <th>17999</th>\n",
       "      <td>18000</td>\n",
       "      <td>18.98854</td>\n",
       "      <td>17.87512</td>\n",
       "      <td>17.43144</td>\n",
       "      <td>17.16797</td>\n",
       "      <td>16.99320</td>\n",
       "      <td>2243</td>\n",
       "      <td>301</td>\n",
       "      <td>4</td>\n",
       "      <td>288</td>\n",
       "      <td>170.662175</td>\n",
       "      <td>59.307692</td>\n",
       "      <td>A</td>\n",
       "      <td>GALAXY</td>\n",
       "    </tr>\n",
       "  </tbody>\n",
       "</table>\n",
       "<p>18000 rows × 14 columns</p>\n",
       "</div>"
      ],
      "text/plain": [
       "          id         u         g         r         i         z   run  rerun  \\\n",
       "0          1  18.45886  17.24552  16.65724  16.27922  16.07007  3712    301   \n",
       "1          2  18.50274  17.50821  17.19507  17.07868  17.08054  3705    301   \n",
       "2          3  18.69451  17.30333  16.48301  16.05570  15.75763  5323    301   \n",
       "3          4  19.34373  18.32701  17.97602  17.82627  17.75770  8108    301   \n",
       "4          5  19.33328  18.13790  17.58180  17.21341  16.99397  4187    301   \n",
       "...      ...       ...       ...       ...       ...       ...   ...    ...   \n",
       "17995  17996  19.07518  19.04164  18.97759  18.69354  18.71167  3958    301   \n",
       "17996  17997  17.45299  15.95391  15.18684  14.75107  14.41128  5314    301   \n",
       "17997  17998  19.58603  19.33562  19.12988  18.97954  19.03011  4682    301   \n",
       "17998  17999  16.87792  15.76577  15.39156  15.24989  15.22452  2125    301   \n",
       "17999  18000  18.98854  17.87512  17.43144  17.16797  16.99320  2243    301   \n",
       "\n",
       "       camcol  field          ra        dec sky_zone object_type  \n",
       "0           5    198  214.002267  54.488814        I      GALAXY  \n",
       "1           6    131  220.688333  53.185834        I        STAR  \n",
       "2           5    140  249.118754  12.091483        E      GALAXY  \n",
       "3           4     57  330.633293  18.920049        C        STAR  \n",
       "4           2    107         NaN  -0.813704        C      GALAXY  \n",
       "...       ...    ...         ...        ...      ...         ...  \n",
       "17995       5     35  235.370451  38.001041        G      QUASAR  \n",
       "17996       2    260  216.986622  16.389357        E      GALAXY  \n",
       "17997       2    239  259.534158  38.102033        G      QUASAR  \n",
       "17998       2    278  160.472715   3.796510        B        STAR  \n",
       "17999       4    288  170.662175  59.307692        A      GALAXY  \n",
       "\n",
       "[18000 rows x 14 columns]"
      ]
     },
     "execution_count": 431,
     "metadata": {},
     "output_type": "execute_result"
    }
   ],
   "source": [
    "train_data"
   ]
  },
  {
   "cell_type": "code",
   "execution_count": 432,
   "metadata": {},
   "outputs": [],
   "source": [
    "for i in range(len(train_data['id'])):\n",
    "    if train_data['object_type'][i] == 'GALAXY':\n",
    "        train_data['object_type'][i] = 1\n",
    "    elif train_data['object_type'][i] == 'STAR':\n",
    "        train_data['object_type'][i] = 2\n",
    "    else:\n",
    "        train_data['object_type'][i] = 3"
   ]
  },
  {
   "cell_type": "code",
   "execution_count": 433,
   "metadata": {},
   "outputs": [],
   "source": [
    "\n",
    "cols = train_data.select_dtypes('number').columns  # limits to a (float), b (int) and e (timedelta)\n",
    "df_sub = train_data.loc[:, cols]\n",
    "\n",
    "\n",
    "# OPTION 1: z-score filter: z-score < 3\n",
    "lim = np.abs((df_sub - df_sub.mean()) / df_sub.std(ddof=0)) < 3"
   ]
  },
  {
   "cell_type": "code",
   "execution_count": 434,
   "metadata": {},
   "outputs": [],
   "source": [
    "train_data.loc[:, cols] = df_sub.where(lim, np.nan)"
   ]
  },
  {
   "cell_type": "code",
   "execution_count": 435,
   "metadata": {},
   "outputs": [],
   "source": [
    "train_data['ra']=train_data[['ra','sky_zone']].apply(f1,axis=1)"
   ]
  },
  {
   "cell_type": "code",
   "execution_count": 436,
   "metadata": {},
   "outputs": [],
   "source": [
    "train_data=train_data.drop(['rerun'],axis = 1)"
   ]
  },
  {
   "cell_type": "code",
   "execution_count": 437,
   "metadata": {},
   "outputs": [],
   "source": [
    "train_data = train_data.dropna()"
   ]
  },
  {
   "cell_type": "code",
   "execution_count": null,
   "metadata": {},
   "outputs": [],
   "source": []
  },
  {
   "cell_type": "code",
   "execution_count": 438,
   "metadata": {},
   "outputs": [
    {
     "data": {
      "text/html": [
       "<div>\n",
       "<style scoped>\n",
       "    .dataframe tbody tr th:only-of-type {\n",
       "        vertical-align: middle;\n",
       "    }\n",
       "\n",
       "    .dataframe tbody tr th {\n",
       "        vertical-align: top;\n",
       "    }\n",
       "\n",
       "    .dataframe thead th {\n",
       "        text-align: right;\n",
       "    }\n",
       "</style>\n",
       "<table border=\"1\" class=\"dataframe\">\n",
       "  <thead>\n",
       "    <tr style=\"text-align: right;\">\n",
       "      <th></th>\n",
       "      <th>id</th>\n",
       "      <th>u</th>\n",
       "      <th>g</th>\n",
       "      <th>r</th>\n",
       "      <th>i</th>\n",
       "      <th>z</th>\n",
       "      <th>run</th>\n",
       "      <th>camcol</th>\n",
       "      <th>field</th>\n",
       "      <th>ra</th>\n",
       "      <th>dec</th>\n",
       "      <th>sky_zone</th>\n",
       "      <th>object_type</th>\n",
       "    </tr>\n",
       "  </thead>\n",
       "  <tbody>\n",
       "    <tr>\n",
       "      <th>0</th>\n",
       "      <td>1</td>\n",
       "      <td>18.45886</td>\n",
       "      <td>17.24552</td>\n",
       "      <td>16.65724</td>\n",
       "      <td>16.27922</td>\n",
       "      <td>16.07007</td>\n",
       "      <td>3712</td>\n",
       "      <td>5</td>\n",
       "      <td>198.0</td>\n",
       "      <td>214.002267</td>\n",
       "      <td>54.488814</td>\n",
       "      <td>I</td>\n",
       "      <td>1</td>\n",
       "    </tr>\n",
       "    <tr>\n",
       "      <th>1</th>\n",
       "      <td>2</td>\n",
       "      <td>18.50274</td>\n",
       "      <td>17.50821</td>\n",
       "      <td>17.19507</td>\n",
       "      <td>17.07868</td>\n",
       "      <td>17.08054</td>\n",
       "      <td>3705</td>\n",
       "      <td>6</td>\n",
       "      <td>131.0</td>\n",
       "      <td>220.688333</td>\n",
       "      <td>53.185834</td>\n",
       "      <td>I</td>\n",
       "      <td>2</td>\n",
       "    </tr>\n",
       "    <tr>\n",
       "      <th>2</th>\n",
       "      <td>3</td>\n",
       "      <td>18.69451</td>\n",
       "      <td>17.30333</td>\n",
       "      <td>16.48301</td>\n",
       "      <td>16.05570</td>\n",
       "      <td>15.75763</td>\n",
       "      <td>5323</td>\n",
       "      <td>5</td>\n",
       "      <td>140.0</td>\n",
       "      <td>249.118754</td>\n",
       "      <td>12.091483</td>\n",
       "      <td>E</td>\n",
       "      <td>1</td>\n",
       "    </tr>\n",
       "    <tr>\n",
       "      <th>3</th>\n",
       "      <td>4</td>\n",
       "      <td>19.34373</td>\n",
       "      <td>18.32701</td>\n",
       "      <td>17.97602</td>\n",
       "      <td>17.82627</td>\n",
       "      <td>17.75770</td>\n",
       "      <td>8108</td>\n",
       "      <td>4</td>\n",
       "      <td>57.0</td>\n",
       "      <td>330.633293</td>\n",
       "      <td>18.920049</td>\n",
       "      <td>C</td>\n",
       "      <td>2</td>\n",
       "    </tr>\n",
       "    <tr>\n",
       "      <th>4</th>\n",
       "      <td>5</td>\n",
       "      <td>19.33328</td>\n",
       "      <td>18.13790</td>\n",
       "      <td>17.58180</td>\n",
       "      <td>17.21341</td>\n",
       "      <td>16.99397</td>\n",
       "      <td>4187</td>\n",
       "      <td>2</td>\n",
       "      <td>107.0</td>\n",
       "      <td>339.020089</td>\n",
       "      <td>-0.813704</td>\n",
       "      <td>C</td>\n",
       "      <td>1</td>\n",
       "    </tr>\n",
       "    <tr>\n",
       "      <th>5</th>\n",
       "      <td>6</td>\n",
       "      <td>18.12876</td>\n",
       "      <td>17.20399</td>\n",
       "      <td>16.86027</td>\n",
       "      <td>16.57519</td>\n",
       "      <td>16.44839</td>\n",
       "      <td>4858</td>\n",
       "      <td>1</td>\n",
       "      <td>461.0</td>\n",
       "      <td>16.005079</td>\n",
       "      <td>-0.855938</td>\n",
       "      <td>J</td>\n",
       "      <td>1</td>\n",
       "    </tr>\n",
       "    <tr>\n",
       "      <th>6</th>\n",
       "      <td>7</td>\n",
       "      <td>18.31343</td>\n",
       "      <td>17.18547</td>\n",
       "      <td>16.74916</td>\n",
       "      <td>16.56921</td>\n",
       "      <td>16.47262</td>\n",
       "      <td>2986</td>\n",
       "      <td>2</td>\n",
       "      <td>301.0</td>\n",
       "      <td>183.477288</td>\n",
       "      <td>6.292662</td>\n",
       "      <td>F</td>\n",
       "      <td>2</td>\n",
       "    </tr>\n",
       "    <tr>\n",
       "      <th>7</th>\n",
       "      <td>8</td>\n",
       "      <td>18.34997</td>\n",
       "      <td>18.16349</td>\n",
       "      <td>18.01111</td>\n",
       "      <td>18.07979</td>\n",
       "      <td>18.20549</td>\n",
       "      <td>2243</td>\n",
       "      <td>1</td>\n",
       "      <td>266.0</td>\n",
       "      <td>165.191274</td>\n",
       "      <td>57.236817</td>\n",
       "      <td>A</td>\n",
       "      <td>3</td>\n",
       "    </tr>\n",
       "    <tr>\n",
       "      <th>8</th>\n",
       "      <td>9</td>\n",
       "      <td>19.19889</td>\n",
       "      <td>17.30230</td>\n",
       "      <td>16.39202</td>\n",
       "      <td>15.96983</td>\n",
       "      <td>15.63067</td>\n",
       "      <td>3893</td>\n",
       "      <td>2</td>\n",
       "      <td>93.0</td>\n",
       "      <td>168.731466</td>\n",
       "      <td>40.716772</td>\n",
       "      <td>A</td>\n",
       "      <td>1</td>\n",
       "    </tr>\n",
       "    <tr>\n",
       "      <th>9</th>\n",
       "      <td>10</td>\n",
       "      <td>19.20559</td>\n",
       "      <td>17.97837</td>\n",
       "      <td>17.21518</td>\n",
       "      <td>16.80125</td>\n",
       "      <td>16.57013</td>\n",
       "      <td>3530</td>\n",
       "      <td>3</td>\n",
       "      <td>293.0</td>\n",
       "      <td>164.608628</td>\n",
       "      <td>45.614735</td>\n",
       "      <td>D</td>\n",
       "      <td>1</td>\n",
       "    </tr>\n",
       "    <tr>\n",
       "      <th>10</th>\n",
       "      <td>11</td>\n",
       "      <td>19.30992</td>\n",
       "      <td>19.20912</td>\n",
       "      <td>18.96076</td>\n",
       "      <td>18.98843</td>\n",
       "      <td>19.05964</td>\n",
       "      <td>4576</td>\n",
       "      <td>1</td>\n",
       "      <td>265.0</td>\n",
       "      <td>153.103643</td>\n",
       "      <td>29.459732</td>\n",
       "      <td>D</td>\n",
       "      <td>3</td>\n",
       "    </tr>\n",
       "    <tr>\n",
       "      <th>11</th>\n",
       "      <td>12</td>\n",
       "      <td>19.20174</td>\n",
       "      <td>17.75096</td>\n",
       "      <td>17.15206</td>\n",
       "      <td>16.80305</td>\n",
       "      <td>16.58730</td>\n",
       "      <td>1740</td>\n",
       "      <td>1</td>\n",
       "      <td>85.0</td>\n",
       "      <td>9.605239</td>\n",
       "      <td>-10.826799</td>\n",
       "      <td>J</td>\n",
       "      <td>1</td>\n",
       "    </tr>\n",
       "    <tr>\n",
       "      <th>12</th>\n",
       "      <td>13</td>\n",
       "      <td>18.45884</td>\n",
       "      <td>16.44801</td>\n",
       "      <td>15.54898</td>\n",
       "      <td>15.10957</td>\n",
       "      <td>14.77067</td>\n",
       "      <td>752</td>\n",
       "      <td>2</td>\n",
       "      <td>454.0</td>\n",
       "      <td>211.474673</td>\n",
       "      <td>-0.745416</td>\n",
       "      <td>E</td>\n",
       "      <td>1</td>\n",
       "    </tr>\n",
       "    <tr>\n",
       "      <th>13</th>\n",
       "      <td>14</td>\n",
       "      <td>16.94389</td>\n",
       "      <td>15.70960</td>\n",
       "      <td>15.84290</td>\n",
       "      <td>15.94241</td>\n",
       "      <td>15.99443</td>\n",
       "      <td>6166</td>\n",
       "      <td>3</td>\n",
       "      <td>80.0</td>\n",
       "      <td>183.477288</td>\n",
       "      <td>3.859241</td>\n",
       "      <td>F</td>\n",
       "      <td>2</td>\n",
       "    </tr>\n",
       "    <tr>\n",
       "      <th>14</th>\n",
       "      <td>15</td>\n",
       "      <td>17.82623</td>\n",
       "      <td>16.73559</td>\n",
       "      <td>16.42801</td>\n",
       "      <td>16.36265</td>\n",
       "      <td>16.35736</td>\n",
       "      <td>3704</td>\n",
       "      <td>4</td>\n",
       "      <td>101.0</td>\n",
       "      <td>146.717963</td>\n",
       "      <td>35.916533</td>\n",
       "      <td>D</td>\n",
       "      <td>2</td>\n",
       "    </tr>\n",
       "    <tr>\n",
       "      <th>15</th>\n",
       "      <td>16</td>\n",
       "      <td>19.30827</td>\n",
       "      <td>18.23942</td>\n",
       "      <td>17.74998</td>\n",
       "      <td>17.38521</td>\n",
       "      <td>17.28945</td>\n",
       "      <td>3647</td>\n",
       "      <td>3</td>\n",
       "      <td>98.0</td>\n",
       "      <td>152.516835</td>\n",
       "      <td>37.502931</td>\n",
       "      <td>D</td>\n",
       "      <td>1</td>\n",
       "    </tr>\n",
       "    <tr>\n",
       "      <th>16</th>\n",
       "      <td>17</td>\n",
       "      <td>19.41127</td>\n",
       "      <td>17.51060</td>\n",
       "      <td>16.63732</td>\n",
       "      <td>16.23914</td>\n",
       "      <td>15.92031</td>\n",
       "      <td>3716</td>\n",
       "      <td>4</td>\n",
       "      <td>191.0</td>\n",
       "      <td>216.967714</td>\n",
       "      <td>43.028236</td>\n",
       "      <td>I</td>\n",
       "      <td>1</td>\n",
       "    </tr>\n",
       "    <tr>\n",
       "      <th>17</th>\n",
       "      <td>18</td>\n",
       "      <td>19.15103</td>\n",
       "      <td>17.65524</td>\n",
       "      <td>16.91478</td>\n",
       "      <td>16.45519</td>\n",
       "      <td>16.14704</td>\n",
       "      <td>5072</td>\n",
       "      <td>5</td>\n",
       "      <td>27.0</td>\n",
       "      <td>200.457098</td>\n",
       "      <td>29.825221</td>\n",
       "      <td>I</td>\n",
       "      <td>1</td>\n",
       "    </tr>\n",
       "    <tr>\n",
       "      <th>18</th>\n",
       "      <td>19</td>\n",
       "      <td>18.87952</td>\n",
       "      <td>18.24662</td>\n",
       "      <td>18.13234</td>\n",
       "      <td>18.10985</td>\n",
       "      <td>18.00020</td>\n",
       "      <td>5976</td>\n",
       "      <td>4</td>\n",
       "      <td>196.0</td>\n",
       "      <td>176.749846</td>\n",
       "      <td>1.397851</td>\n",
       "      <td>F</td>\n",
       "      <td>3</td>\n",
       "    </tr>\n",
       "    <tr>\n",
       "      <th>19</th>\n",
       "      <td>20</td>\n",
       "      <td>19.25630</td>\n",
       "      <td>17.95196</td>\n",
       "      <td>17.32869</td>\n",
       "      <td>16.95251</td>\n",
       "      <td>16.72808</td>\n",
       "      <td>3647</td>\n",
       "      <td>5</td>\n",
       "      <td>86.0</td>\n",
       "      <td>149.969717</td>\n",
       "      <td>37.696411</td>\n",
       "      <td>D</td>\n",
       "      <td>1</td>\n",
       "    </tr>\n",
       "    <tr>\n",
       "      <th>20</th>\n",
       "      <td>21</td>\n",
       "      <td>18.63828</td>\n",
       "      <td>17.22725</td>\n",
       "      <td>16.56602</td>\n",
       "      <td>16.15670</td>\n",
       "      <td>15.88071</td>\n",
       "      <td>2711</td>\n",
       "      <td>5</td>\n",
       "      <td>131.0</td>\n",
       "      <td>125.730738</td>\n",
       "      <td>36.727112</td>\n",
       "      <td>H</td>\n",
       "      <td>1</td>\n",
       "    </tr>\n",
       "    <tr>\n",
       "      <th>22</th>\n",
       "      <td>23</td>\n",
       "      <td>19.54403</td>\n",
       "      <td>17.83586</td>\n",
       "      <td>17.12337</td>\n",
       "      <td>16.83121</td>\n",
       "      <td>16.66434</td>\n",
       "      <td>6581</td>\n",
       "      <td>5</td>\n",
       "      <td>200.0</td>\n",
       "      <td>111.866924</td>\n",
       "      <td>32.321147</td>\n",
       "      <td>H</td>\n",
       "      <td>2</td>\n",
       "    </tr>\n",
       "  </tbody>\n",
       "</table>\n",
       "</div>"
      ],
      "text/plain": [
       "    id         u         g         r         i         z   run  camcol  field  \\\n",
       "0    1  18.45886  17.24552  16.65724  16.27922  16.07007  3712       5  198.0   \n",
       "1    2  18.50274  17.50821  17.19507  17.07868  17.08054  3705       6  131.0   \n",
       "2    3  18.69451  17.30333  16.48301  16.05570  15.75763  5323       5  140.0   \n",
       "3    4  19.34373  18.32701  17.97602  17.82627  17.75770  8108       4   57.0   \n",
       "4    5  19.33328  18.13790  17.58180  17.21341  16.99397  4187       2  107.0   \n",
       "5    6  18.12876  17.20399  16.86027  16.57519  16.44839  4858       1  461.0   \n",
       "6    7  18.31343  17.18547  16.74916  16.56921  16.47262  2986       2  301.0   \n",
       "7    8  18.34997  18.16349  18.01111  18.07979  18.20549  2243       1  266.0   \n",
       "8    9  19.19889  17.30230  16.39202  15.96983  15.63067  3893       2   93.0   \n",
       "9   10  19.20559  17.97837  17.21518  16.80125  16.57013  3530       3  293.0   \n",
       "10  11  19.30992  19.20912  18.96076  18.98843  19.05964  4576       1  265.0   \n",
       "11  12  19.20174  17.75096  17.15206  16.80305  16.58730  1740       1   85.0   \n",
       "12  13  18.45884  16.44801  15.54898  15.10957  14.77067   752       2  454.0   \n",
       "13  14  16.94389  15.70960  15.84290  15.94241  15.99443  6166       3   80.0   \n",
       "14  15  17.82623  16.73559  16.42801  16.36265  16.35736  3704       4  101.0   \n",
       "15  16  19.30827  18.23942  17.74998  17.38521  17.28945  3647       3   98.0   \n",
       "16  17  19.41127  17.51060  16.63732  16.23914  15.92031  3716       4  191.0   \n",
       "17  18  19.15103  17.65524  16.91478  16.45519  16.14704  5072       5   27.0   \n",
       "18  19  18.87952  18.24662  18.13234  18.10985  18.00020  5976       4  196.0   \n",
       "19  20  19.25630  17.95196  17.32869  16.95251  16.72808  3647       5   86.0   \n",
       "20  21  18.63828  17.22725  16.56602  16.15670  15.88071  2711       5  131.0   \n",
       "22  23  19.54403  17.83586  17.12337  16.83121  16.66434  6581       5  200.0   \n",
       "\n",
       "            ra        dec sky_zone object_type  \n",
       "0   214.002267  54.488814        I           1  \n",
       "1   220.688333  53.185834        I           2  \n",
       "2   249.118754  12.091483        E           1  \n",
       "3   330.633293  18.920049        C           2  \n",
       "4   339.020089  -0.813704        C           1  \n",
       "5    16.005079  -0.855938        J           1  \n",
       "6   183.477288   6.292662        F           2  \n",
       "7   165.191274  57.236817        A           3  \n",
       "8   168.731466  40.716772        A           1  \n",
       "9   164.608628  45.614735        D           1  \n",
       "10  153.103643  29.459732        D           3  \n",
       "11    9.605239 -10.826799        J           1  \n",
       "12  211.474673  -0.745416        E           1  \n",
       "13  183.477288   3.859241        F           2  \n",
       "14  146.717963  35.916533        D           2  \n",
       "15  152.516835  37.502931        D           1  \n",
       "16  216.967714  43.028236        I           1  \n",
       "17  200.457098  29.825221        I           1  \n",
       "18  176.749846   1.397851        F           3  \n",
       "19  149.969717  37.696411        D           1  \n",
       "20  125.730738  36.727112        H           1  \n",
       "22  111.866924  32.321147        H           2  "
      ]
     },
     "execution_count": 438,
     "metadata": {},
     "output_type": "execute_result"
    }
   ],
   "source": [
    "train_data.head(22)"
   ]
  },
  {
   "cell_type": "code",
   "execution_count": null,
   "metadata": {},
   "outputs": [],
   "source": []
  },
  {
   "cell_type": "code",
   "execution_count": null,
   "metadata": {},
   "outputs": [],
   "source": []
  },
  {
   "cell_type": "code",
   "execution_count": 439,
   "metadata": {},
   "outputs": [],
   "source": [
    "test_data = testcam.merge(testsky,on='id', how='left')"
   ]
  },
  {
   "cell_type": "code",
   "execution_count": 440,
   "metadata": {},
   "outputs": [
    {
     "data": {
      "text/html": [
       "<div>\n",
       "<style scoped>\n",
       "    .dataframe tbody tr th:only-of-type {\n",
       "        vertical-align: middle;\n",
       "    }\n",
       "\n",
       "    .dataframe tbody tr th {\n",
       "        vertical-align: top;\n",
       "    }\n",
       "\n",
       "    .dataframe thead th {\n",
       "        text-align: right;\n",
       "    }\n",
       "</style>\n",
       "<table border=\"1\" class=\"dataframe\">\n",
       "  <thead>\n",
       "    <tr style=\"text-align: right;\">\n",
       "      <th></th>\n",
       "      <th>id</th>\n",
       "      <th>u</th>\n",
       "      <th>g</th>\n",
       "      <th>r</th>\n",
       "      <th>i</th>\n",
       "      <th>z</th>\n",
       "      <th>run</th>\n",
       "      <th>rerun</th>\n",
       "      <th>camcol</th>\n",
       "      <th>field</th>\n",
       "      <th>ra</th>\n",
       "      <th>dec</th>\n",
       "      <th>sky_zone</th>\n",
       "    </tr>\n",
       "  </thead>\n",
       "  <tbody>\n",
       "    <tr>\n",
       "      <th>0</th>\n",
       "      <td>18001</td>\n",
       "      <td>17.77804</td>\n",
       "      <td>16.40338</td>\n",
       "      <td>15.69551</td>\n",
       "      <td>15.51029</td>\n",
       "      <td>15.41648</td>\n",
       "      <td>6585</td>\n",
       "      <td>301.0</td>\n",
       "      <td>4</td>\n",
       "      <td>146</td>\n",
       "      <td>105.295891</td>\n",
       "      <td>29.857393</td>\n",
       "      <td>H</td>\n",
       "    </tr>\n",
       "    <tr>\n",
       "      <th>1</th>\n",
       "      <td>18002</td>\n",
       "      <td>19.17646</td>\n",
       "      <td>18.08458</td>\n",
       "      <td>17.01220</td>\n",
       "      <td>16.35536</td>\n",
       "      <td>15.94323</td>\n",
       "      <td>5115</td>\n",
       "      <td>301.0</td>\n",
       "      <td>3</td>\n",
       "      <td>55</td>\n",
       "      <td>178.795262</td>\n",
       "      <td>27.223414</td>\n",
       "      <td>F</td>\n",
       "    </tr>\n",
       "    <tr>\n",
       "      <th>2</th>\n",
       "      <td>18003</td>\n",
       "      <td>18.97518</td>\n",
       "      <td>17.53847</td>\n",
       "      <td>16.98310</td>\n",
       "      <td>16.66949</td>\n",
       "      <td>16.62293</td>\n",
       "      <td>1412</td>\n",
       "      <td>301.0</td>\n",
       "      <td>4</td>\n",
       "      <td>294</td>\n",
       "      <td>226.759800</td>\n",
       "      <td>61.228082</td>\n",
       "      <td>I</td>\n",
       "    </tr>\n",
       "    <tr>\n",
       "      <th>3</th>\n",
       "      <td>18004</td>\n",
       "      <td>19.48538</td>\n",
       "      <td>17.55220</td>\n",
       "      <td>16.57528</td>\n",
       "      <td>16.13803</td>\n",
       "      <td>15.76700</td>\n",
       "      <td>2826</td>\n",
       "      <td>NaN</td>\n",
       "      <td>2</td>\n",
       "      <td>268</td>\n",
       "      <td>177.735503</td>\n",
       "      <td>56.820679</td>\n",
       "      <td>A</td>\n",
       "    </tr>\n",
       "    <tr>\n",
       "      <th>4</th>\n",
       "      <td>18005</td>\n",
       "      <td>19.09216</td>\n",
       "      <td>17.81581</td>\n",
       "      <td>17.10279</td>\n",
       "      <td>16.66293</td>\n",
       "      <td>16.48639</td>\n",
       "      <td>3704</td>\n",
       "      <td>301.0</td>\n",
       "      <td>6</td>\n",
       "      <td>16</td>\n",
       "      <td>132.988928</td>\n",
       "      <td>30.463367</td>\n",
       "      <td>B</td>\n",
       "    </tr>\n",
       "    <tr>\n",
       "      <th>...</th>\n",
       "      <td>...</td>\n",
       "      <td>...</td>\n",
       "      <td>...</td>\n",
       "      <td>...</td>\n",
       "      <td>...</td>\n",
       "      <td>...</td>\n",
       "      <td>...</td>\n",
       "      <td>...</td>\n",
       "      <td>...</td>\n",
       "      <td>...</td>\n",
       "      <td>...</td>\n",
       "      <td>...</td>\n",
       "      <td>...</td>\n",
       "    </tr>\n",
       "    <tr>\n",
       "      <th>11995</th>\n",
       "      <td>29996</td>\n",
       "      <td>19.36869</td>\n",
       "      <td>18.00328</td>\n",
       "      <td>18.08442</td>\n",
       "      <td>18.19245</td>\n",
       "      <td>18.25524</td>\n",
       "      <td>4134</td>\n",
       "      <td>NaN</td>\n",
       "      <td>2</td>\n",
       "      <td>92</td>\n",
       "      <td>292.277001</td>\n",
       "      <td>77.523831</td>\n",
       "      <td>G</td>\n",
       "    </tr>\n",
       "    <tr>\n",
       "      <th>11996</th>\n",
       "      <td>29997</td>\n",
       "      <td>17.91410</td>\n",
       "      <td>16.40229</td>\n",
       "      <td>15.63961</td>\n",
       "      <td>15.17997</td>\n",
       "      <td>14.90172</td>\n",
       "      <td>3704</td>\n",
       "      <td>301.0</td>\n",
       "      <td>6</td>\n",
       "      <td>14</td>\n",
       "      <td>132.478684</td>\n",
       "      <td>30.383597</td>\n",
       "      <td>H</td>\n",
       "    </tr>\n",
       "    <tr>\n",
       "      <th>11997</th>\n",
       "      <td>29998</td>\n",
       "      <td>19.19980</td>\n",
       "      <td>17.49400</td>\n",
       "      <td>16.54597</td>\n",
       "      <td>16.02917</td>\n",
       "      <td>15.60198</td>\n",
       "      <td>7917</td>\n",
       "      <td>301.0</td>\n",
       "      <td>3</td>\n",
       "      <td>231</td>\n",
       "      <td>20.388668</td>\n",
       "      <td>21.656181</td>\n",
       "      <td>J</td>\n",
       "    </tr>\n",
       "    <tr>\n",
       "      <th>11998</th>\n",
       "      <td>29999</td>\n",
       "      <td>18.94944</td>\n",
       "      <td>17.76070</td>\n",
       "      <td>17.59710</td>\n",
       "      <td>17.55043</td>\n",
       "      <td>17.55842</td>\n",
       "      <td>2335</td>\n",
       "      <td>301.0</td>\n",
       "      <td>6</td>\n",
       "      <td>94</td>\n",
       "      <td>258.789492</td>\n",
       "      <td>33.311637</td>\n",
       "      <td>G</td>\n",
       "    </tr>\n",
       "    <tr>\n",
       "      <th>11999</th>\n",
       "      <td>30000</td>\n",
       "      <td>18.26765</td>\n",
       "      <td>17.22773</td>\n",
       "      <td>16.82597</td>\n",
       "      <td>16.65923</td>\n",
       "      <td>16.61649</td>\n",
       "      <td>2126</td>\n",
       "      <td>301.0</td>\n",
       "      <td>1</td>\n",
       "      <td>201</td>\n",
       "      <td>149.279866</td>\n",
       "      <td>3.077620</td>\n",
       "      <td>B</td>\n",
       "    </tr>\n",
       "  </tbody>\n",
       "</table>\n",
       "<p>12000 rows × 13 columns</p>\n",
       "</div>"
      ],
      "text/plain": [
       "          id         u         g         r         i         z   run  rerun  \\\n",
       "0      18001  17.77804  16.40338  15.69551  15.51029  15.41648  6585  301.0   \n",
       "1      18002  19.17646  18.08458  17.01220  16.35536  15.94323  5115  301.0   \n",
       "2      18003  18.97518  17.53847  16.98310  16.66949  16.62293  1412  301.0   \n",
       "3      18004  19.48538  17.55220  16.57528  16.13803  15.76700  2826    NaN   \n",
       "4      18005  19.09216  17.81581  17.10279  16.66293  16.48639  3704  301.0   \n",
       "...      ...       ...       ...       ...       ...       ...   ...    ...   \n",
       "11995  29996  19.36869  18.00328  18.08442  18.19245  18.25524  4134    NaN   \n",
       "11996  29997  17.91410  16.40229  15.63961  15.17997  14.90172  3704  301.0   \n",
       "11997  29998  19.19980  17.49400  16.54597  16.02917  15.60198  7917  301.0   \n",
       "11998  29999  18.94944  17.76070  17.59710  17.55043  17.55842  2335  301.0   \n",
       "11999  30000  18.26765  17.22773  16.82597  16.65923  16.61649  2126  301.0   \n",
       "\n",
       "       camcol  field          ra        dec sky_zone  \n",
       "0           4    146  105.295891  29.857393        H  \n",
       "1           3     55  178.795262  27.223414        F  \n",
       "2           4    294  226.759800  61.228082        I  \n",
       "3           2    268  177.735503  56.820679        A  \n",
       "4           6     16  132.988928  30.463367        B  \n",
       "...       ...    ...         ...        ...      ...  \n",
       "11995       2     92  292.277001  77.523831        G  \n",
       "11996       6     14  132.478684  30.383597        H  \n",
       "11997       3    231   20.388668  21.656181        J  \n",
       "11998       6     94  258.789492  33.311637        G  \n",
       "11999       1    201  149.279866   3.077620        B  \n",
       "\n",
       "[12000 rows x 13 columns]"
      ]
     },
     "execution_count": 440,
     "metadata": {},
     "output_type": "execute_result"
    }
   ],
   "source": [
    "test_data"
   ]
  },
  {
   "cell_type": "code",
   "execution_count": 441,
   "metadata": {},
   "outputs": [
    {
     "data": {
      "text/html": [
       "<div>\n",
       "<style scoped>\n",
       "    .dataframe tbody tr th:only-of-type {\n",
       "        vertical-align: middle;\n",
       "    }\n",
       "\n",
       "    .dataframe tbody tr th {\n",
       "        vertical-align: top;\n",
       "    }\n",
       "\n",
       "    .dataframe thead th {\n",
       "        text-align: right;\n",
       "    }\n",
       "</style>\n",
       "<table border=\"1\" class=\"dataframe\">\n",
       "  <thead>\n",
       "    <tr style=\"text-align: right;\">\n",
       "      <th></th>\n",
       "      <th>id</th>\n",
       "      <th>u</th>\n",
       "      <th>g</th>\n",
       "      <th>r</th>\n",
       "      <th>i</th>\n",
       "      <th>z</th>\n",
       "      <th>run</th>\n",
       "      <th>camcol</th>\n",
       "      <th>field</th>\n",
       "      <th>ra</th>\n",
       "      <th>dec</th>\n",
       "      <th>sky_zone</th>\n",
       "      <th>object_type</th>\n",
       "    </tr>\n",
       "  </thead>\n",
       "  <tbody>\n",
       "    <tr>\n",
       "      <th>0</th>\n",
       "      <td>1</td>\n",
       "      <td>18.45886</td>\n",
       "      <td>17.24552</td>\n",
       "      <td>16.65724</td>\n",
       "      <td>16.27922</td>\n",
       "      <td>16.07007</td>\n",
       "      <td>3712</td>\n",
       "      <td>5</td>\n",
       "      <td>198.0</td>\n",
       "      <td>214.002267</td>\n",
       "      <td>54.488814</td>\n",
       "      <td>I</td>\n",
       "      <td>1</td>\n",
       "    </tr>\n",
       "    <tr>\n",
       "      <th>2</th>\n",
       "      <td>3</td>\n",
       "      <td>18.69451</td>\n",
       "      <td>17.30333</td>\n",
       "      <td>16.48301</td>\n",
       "      <td>16.05570</td>\n",
       "      <td>15.75763</td>\n",
       "      <td>5323</td>\n",
       "      <td>5</td>\n",
       "      <td>140.0</td>\n",
       "      <td>249.118754</td>\n",
       "      <td>12.091483</td>\n",
       "      <td>E</td>\n",
       "      <td>1</td>\n",
       "    </tr>\n",
       "    <tr>\n",
       "      <th>4</th>\n",
       "      <td>5</td>\n",
       "      <td>19.33328</td>\n",
       "      <td>18.13790</td>\n",
       "      <td>17.58180</td>\n",
       "      <td>17.21341</td>\n",
       "      <td>16.99397</td>\n",
       "      <td>4187</td>\n",
       "      <td>2</td>\n",
       "      <td>107.0</td>\n",
       "      <td>339.020089</td>\n",
       "      <td>-0.813704</td>\n",
       "      <td>C</td>\n",
       "      <td>1</td>\n",
       "    </tr>\n",
       "    <tr>\n",
       "      <th>5</th>\n",
       "      <td>6</td>\n",
       "      <td>18.12876</td>\n",
       "      <td>17.20399</td>\n",
       "      <td>16.86027</td>\n",
       "      <td>16.57519</td>\n",
       "      <td>16.44839</td>\n",
       "      <td>4858</td>\n",
       "      <td>1</td>\n",
       "      <td>461.0</td>\n",
       "      <td>16.005079</td>\n",
       "      <td>-0.855938</td>\n",
       "      <td>J</td>\n",
       "      <td>1</td>\n",
       "    </tr>\n",
       "    <tr>\n",
       "      <th>8</th>\n",
       "      <td>9</td>\n",
       "      <td>19.19889</td>\n",
       "      <td>17.30230</td>\n",
       "      <td>16.39202</td>\n",
       "      <td>15.96983</td>\n",
       "      <td>15.63067</td>\n",
       "      <td>3893</td>\n",
       "      <td>2</td>\n",
       "      <td>93.0</td>\n",
       "      <td>168.731466</td>\n",
       "      <td>40.716772</td>\n",
       "      <td>A</td>\n",
       "      <td>1</td>\n",
       "    </tr>\n",
       "    <tr>\n",
       "      <th>...</th>\n",
       "      <td>...</td>\n",
       "      <td>...</td>\n",
       "      <td>...</td>\n",
       "      <td>...</td>\n",
       "      <td>...</td>\n",
       "      <td>...</td>\n",
       "      <td>...</td>\n",
       "      <td>...</td>\n",
       "      <td>...</td>\n",
       "      <td>...</td>\n",
       "      <td>...</td>\n",
       "      <td>...</td>\n",
       "      <td>...</td>\n",
       "    </tr>\n",
       "    <tr>\n",
       "      <th>17988</th>\n",
       "      <td>17989</td>\n",
       "      <td>19.36458</td>\n",
       "      <td>17.75704</td>\n",
       "      <td>16.97619</td>\n",
       "      <td>16.49094</td>\n",
       "      <td>16.09658</td>\n",
       "      <td>4263</td>\n",
       "      <td>4</td>\n",
       "      <td>324.0</td>\n",
       "      <td>31.264780</td>\n",
       "      <td>0.175134</td>\n",
       "      <td>J</td>\n",
       "      <td>1</td>\n",
       "    </tr>\n",
       "    <tr>\n",
       "      <th>17990</th>\n",
       "      <td>17991</td>\n",
       "      <td>18.53707</td>\n",
       "      <td>16.99193</td>\n",
       "      <td>16.24483</td>\n",
       "      <td>15.85866</td>\n",
       "      <td>15.57990</td>\n",
       "      <td>4576</td>\n",
       "      <td>1</td>\n",
       "      <td>302.0</td>\n",
       "      <td>159.248872</td>\n",
       "      <td>31.108833</td>\n",
       "      <td>D</td>\n",
       "      <td>1</td>\n",
       "    </tr>\n",
       "    <tr>\n",
       "      <th>17991</th>\n",
       "      <td>17992</td>\n",
       "      <td>19.18985</td>\n",
       "      <td>17.89170</td>\n",
       "      <td>17.44497</td>\n",
       "      <td>17.15260</td>\n",
       "      <td>17.10248</td>\n",
       "      <td>5330</td>\n",
       "      <td>2</td>\n",
       "      <td>40.0</td>\n",
       "      <td>234.803943</td>\n",
       "      <td>14.361008</td>\n",
       "      <td>E</td>\n",
       "      <td>1</td>\n",
       "    </tr>\n",
       "    <tr>\n",
       "      <th>17996</th>\n",
       "      <td>17997</td>\n",
       "      <td>17.45299</td>\n",
       "      <td>15.95391</td>\n",
       "      <td>15.18684</td>\n",
       "      <td>14.75107</td>\n",
       "      <td>14.41128</td>\n",
       "      <td>5314</td>\n",
       "      <td>2</td>\n",
       "      <td>260.0</td>\n",
       "      <td>216.986622</td>\n",
       "      <td>16.389357</td>\n",
       "      <td>E</td>\n",
       "      <td>1</td>\n",
       "    </tr>\n",
       "    <tr>\n",
       "      <th>17999</th>\n",
       "      <td>18000</td>\n",
       "      <td>18.98854</td>\n",
       "      <td>17.87512</td>\n",
       "      <td>17.43144</td>\n",
       "      <td>17.16797</td>\n",
       "      <td>16.99320</td>\n",
       "      <td>2243</td>\n",
       "      <td>4</td>\n",
       "      <td>288.0</td>\n",
       "      <td>170.662175</td>\n",
       "      <td>59.307692</td>\n",
       "      <td>A</td>\n",
       "      <td>1</td>\n",
       "    </tr>\n",
       "  </tbody>\n",
       "</table>\n",
       "<p>8813 rows × 13 columns</p>\n",
       "</div>"
      ],
      "text/plain": [
       "          id         u         g         r         i         z   run  camcol  \\\n",
       "0          1  18.45886  17.24552  16.65724  16.27922  16.07007  3712       5   \n",
       "2          3  18.69451  17.30333  16.48301  16.05570  15.75763  5323       5   \n",
       "4          5  19.33328  18.13790  17.58180  17.21341  16.99397  4187       2   \n",
       "5          6  18.12876  17.20399  16.86027  16.57519  16.44839  4858       1   \n",
       "8          9  19.19889  17.30230  16.39202  15.96983  15.63067  3893       2   \n",
       "...      ...       ...       ...       ...       ...       ...   ...     ...   \n",
       "17988  17989  19.36458  17.75704  16.97619  16.49094  16.09658  4263       4   \n",
       "17990  17991  18.53707  16.99193  16.24483  15.85866  15.57990  4576       1   \n",
       "17991  17992  19.18985  17.89170  17.44497  17.15260  17.10248  5330       2   \n",
       "17996  17997  17.45299  15.95391  15.18684  14.75107  14.41128  5314       2   \n",
       "17999  18000  18.98854  17.87512  17.43144  17.16797  16.99320  2243       4   \n",
       "\n",
       "       field          ra        dec sky_zone object_type  \n",
       "0      198.0  214.002267  54.488814        I           1  \n",
       "2      140.0  249.118754  12.091483        E           1  \n",
       "4      107.0  339.020089  -0.813704        C           1  \n",
       "5      461.0   16.005079  -0.855938        J           1  \n",
       "8       93.0  168.731466  40.716772        A           1  \n",
       "...      ...         ...        ...      ...         ...  \n",
       "17988  324.0   31.264780   0.175134        J           1  \n",
       "17990  302.0  159.248872  31.108833        D           1  \n",
       "17991   40.0  234.803943  14.361008        E           1  \n",
       "17996  260.0  216.986622  16.389357        E           1  \n",
       "17999  288.0  170.662175  59.307692        A           1  \n",
       "\n",
       "[8813 rows x 13 columns]"
      ]
     },
     "execution_count": 441,
     "metadata": {},
     "output_type": "execute_result"
    }
   ],
   "source": [
    "galaxy = train_data[train_data['object_type']==1]\n",
    "galaxy"
   ]
  },
  {
   "cell_type": "code",
   "execution_count": 442,
   "metadata": {},
   "outputs": [
    {
     "data": {
      "text/html": [
       "<div>\n",
       "<style scoped>\n",
       "    .dataframe tbody tr th:only-of-type {\n",
       "        vertical-align: middle;\n",
       "    }\n",
       "\n",
       "    .dataframe tbody tr th {\n",
       "        vertical-align: top;\n",
       "    }\n",
       "\n",
       "    .dataframe thead th {\n",
       "        text-align: right;\n",
       "    }\n",
       "</style>\n",
       "<table border=\"1\" class=\"dataframe\">\n",
       "  <thead>\n",
       "    <tr style=\"text-align: right;\">\n",
       "      <th></th>\n",
       "      <th>id</th>\n",
       "      <th>u</th>\n",
       "      <th>g</th>\n",
       "      <th>r</th>\n",
       "      <th>i</th>\n",
       "      <th>z</th>\n",
       "      <th>run</th>\n",
       "      <th>camcol</th>\n",
       "      <th>field</th>\n",
       "      <th>ra</th>\n",
       "      <th>dec</th>\n",
       "    </tr>\n",
       "  </thead>\n",
       "  <tbody>\n",
       "    <tr>\n",
       "      <th>count</th>\n",
       "      <td>8813.000000</td>\n",
       "      <td>8813.000000</td>\n",
       "      <td>8813.000000</td>\n",
       "      <td>8813.000000</td>\n",
       "      <td>8813.000000</td>\n",
       "      <td>8813.000000</td>\n",
       "      <td>8813.000000</td>\n",
       "      <td>8813.000000</td>\n",
       "      <td>8813.000000</td>\n",
       "      <td>8813.000000</td>\n",
       "      <td>8813.000000</td>\n",
       "    </tr>\n",
       "    <tr>\n",
       "      <th>mean</th>\n",
       "      <td>8985.802791</td>\n",
       "      <td>18.792700</td>\n",
       "      <td>17.331241</td>\n",
       "      <td>16.632464</td>\n",
       "      <td>16.259151</td>\n",
       "      <td>16.007603</td>\n",
       "      <td>3800.100533</td>\n",
       "      <td>3.255532</td>\n",
       "      <td>182.859639</td>\n",
       "      <td>181.992096</td>\n",
       "      <td>25.362724</td>\n",
       "    </tr>\n",
       "    <tr>\n",
       "      <th>std</th>\n",
       "      <td>5179.982854</td>\n",
       "      <td>0.681798</td>\n",
       "      <td>0.750228</td>\n",
       "      <td>0.832564</td>\n",
       "      <td>0.867386</td>\n",
       "      <td>0.927760</td>\n",
       "      <td>1544.047196</td>\n",
       "      <td>1.601837</td>\n",
       "      <td>124.695345</td>\n",
       "      <td>64.038977</td>\n",
       "      <td>19.943227</td>\n",
       "    </tr>\n",
       "    <tr>\n",
       "      <th>min</th>\n",
       "      <td>1.000000</td>\n",
       "      <td>16.138730</td>\n",
       "      <td>14.476330</td>\n",
       "      <td>13.512680</td>\n",
       "      <td>13.043850</td>\n",
       "      <td>12.699370</td>\n",
       "      <td>745.000000</td>\n",
       "      <td>1.000000</td>\n",
       "      <td>11.000000</td>\n",
       "      <td>0.038054</td>\n",
       "      <td>-11.189828</td>\n",
       "    </tr>\n",
       "    <tr>\n",
       "      <th>25%</th>\n",
       "      <td>4537.000000</td>\n",
       "      <td>18.454830</td>\n",
       "      <td>16.946780</td>\n",
       "      <td>16.162460</td>\n",
       "      <td>15.749420</td>\n",
       "      <td>15.434100</td>\n",
       "      <td>2826.000000</td>\n",
       "      <td>2.000000</td>\n",
       "      <td>87.000000</td>\n",
       "      <td>149.413423</td>\n",
       "      <td>7.488645</td>\n",
       "    </tr>\n",
       "    <tr>\n",
       "      <th>50%</th>\n",
       "      <td>9008.000000</td>\n",
       "      <td>18.984650</td>\n",
       "      <td>17.472360</td>\n",
       "      <td>16.702870</td>\n",
       "      <td>16.313170</td>\n",
       "      <td>16.036900</td>\n",
       "      <td>3840.000000</td>\n",
       "      <td>3.000000</td>\n",
       "      <td>155.000000</td>\n",
       "      <td>183.477288</td>\n",
       "      <td>23.623520</td>\n",
       "    </tr>\n",
       "    <tr>\n",
       "      <th>75%</th>\n",
       "      <td>13451.000000</td>\n",
       "      <td>19.314160</td>\n",
       "      <td>17.873930</td>\n",
       "      <td>17.265630</td>\n",
       "      <td>16.921020</td>\n",
       "      <td>16.712770</td>\n",
       "      <td>4674.000000</td>\n",
       "      <td>5.000000</td>\n",
       "      <td>249.000000</td>\n",
       "      <td>220.325780</td>\n",
       "      <td>40.750115</td>\n",
       "    </tr>\n",
       "    <tr>\n",
       "      <th>max</th>\n",
       "      <td>18000.000000</td>\n",
       "      <td>19.599790</td>\n",
       "      <td>19.974990</td>\n",
       "      <td>19.506970</td>\n",
       "      <td>20.002060</td>\n",
       "      <td>19.934330</td>\n",
       "      <td>8157.000000</td>\n",
       "      <td>6.000000</td>\n",
       "      <td>615.000000</td>\n",
       "      <td>359.719626</td>\n",
       "      <td>76.751560</td>\n",
       "    </tr>\n",
       "  </tbody>\n",
       "</table>\n",
       "</div>"
      ],
      "text/plain": [
       "                 id            u            g            r            i  \\\n",
       "count   8813.000000  8813.000000  8813.000000  8813.000000  8813.000000   \n",
       "mean    8985.802791    18.792700    17.331241    16.632464    16.259151   \n",
       "std     5179.982854     0.681798     0.750228     0.832564     0.867386   \n",
       "min        1.000000    16.138730    14.476330    13.512680    13.043850   \n",
       "25%     4537.000000    18.454830    16.946780    16.162460    15.749420   \n",
       "50%     9008.000000    18.984650    17.472360    16.702870    16.313170   \n",
       "75%    13451.000000    19.314160    17.873930    17.265630    16.921020   \n",
       "max    18000.000000    19.599790    19.974990    19.506970    20.002060   \n",
       "\n",
       "                 z          run       camcol        field           ra  \\\n",
       "count  8813.000000  8813.000000  8813.000000  8813.000000  8813.000000   \n",
       "mean     16.007603  3800.100533     3.255532   182.859639   181.992096   \n",
       "std       0.927760  1544.047196     1.601837   124.695345    64.038977   \n",
       "min      12.699370   745.000000     1.000000    11.000000     0.038054   \n",
       "25%      15.434100  2826.000000     2.000000    87.000000   149.413423   \n",
       "50%      16.036900  3840.000000     3.000000   155.000000   183.477288   \n",
       "75%      16.712770  4674.000000     5.000000   249.000000   220.325780   \n",
       "max      19.934330  8157.000000     6.000000   615.000000   359.719626   \n",
       "\n",
       "               dec  \n",
       "count  8813.000000  \n",
       "mean     25.362724  \n",
       "std      19.943227  \n",
       "min     -11.189828  \n",
       "25%       7.488645  \n",
       "50%      23.623520  \n",
       "75%      40.750115  \n",
       "max      76.751560  "
      ]
     },
     "execution_count": 442,
     "metadata": {},
     "output_type": "execute_result"
    }
   ],
   "source": [
    "galaxy.describe()"
   ]
  },
  {
   "cell_type": "code",
   "execution_count": 443,
   "metadata": {},
   "outputs": [
    {
     "data": {
      "text/plain": [
       "Index(['id', 'u', 'g', 'r', 'i', 'z', 'run', 'camcol', 'field', 'ra', 'dec',\n",
       "       'sky_zone', 'object_type', 'train_test', 'rerun'],\n",
       "      dtype='object')"
      ]
     },
     "execution_count": 443,
     "metadata": {},
     "output_type": "execute_result"
    }
   ],
   "source": [
    "train_data['train_test'] = 1\n",
    "test_data['train_test'] = 0\n",
    "test_data['object_type'] = np.NaN\n",
    "all_data = pd.concat([train_data,test_data])\n",
    "\n",
    "%matplotlib inline\n",
    "all_data.columns"
   ]
  },
  {
   "cell_type": "code",
   "execution_count": 444,
   "metadata": {},
   "outputs": [
    {
     "name": "stdout",
     "output_type": "stream",
     "text": [
      "<class 'pandas.core.frame.DataFrame'>\n",
      "Int64Index: 17141 entries, 0 to 17999\n",
      "Data columns (total 14 columns):\n",
      " #   Column       Non-Null Count  Dtype  \n",
      "---  ------       --------------  -----  \n",
      " 0   id           17141 non-null  int64  \n",
      " 1   u            17141 non-null  float64\n",
      " 2   g            17141 non-null  float64\n",
      " 3   r            17141 non-null  float64\n",
      " 4   i            17141 non-null  float64\n",
      " 5   z            17141 non-null  float64\n",
      " 6   run          17141 non-null  int64  \n",
      " 7   camcol       17141 non-null  int64  \n",
      " 8   field        17141 non-null  float64\n",
      " 9   ra           17141 non-null  float64\n",
      " 10  dec          17141 non-null  float64\n",
      " 11  sky_zone     17141 non-null  object \n",
      " 12  object_type  17141 non-null  object \n",
      " 13  train_test   17141 non-null  int64  \n",
      "dtypes: float64(8), int64(4), object(2)\n",
      "memory usage: 2.0+ MB\n"
     ]
    }
   ],
   "source": [
    "train_data.info()"
   ]
  },
  {
   "cell_type": "code",
   "execution_count": 445,
   "metadata": {},
   "outputs": [
    {
     "name": "stdout",
     "output_type": "stream",
     "text": [
      "<class 'pandas.core.frame.DataFrame'>\n",
      "Int64Index: 12000 entries, 0 to 11999\n",
      "Data columns (total 15 columns):\n",
      " #   Column       Non-Null Count  Dtype  \n",
      "---  ------       --------------  -----  \n",
      " 0   id           12000 non-null  int64  \n",
      " 1   u            12000 non-null  float64\n",
      " 2   g            12000 non-null  float64\n",
      " 3   r            12000 non-null  float64\n",
      " 4   i            12000 non-null  float64\n",
      " 5   z            12000 non-null  float64\n",
      " 6   run          12000 non-null  int64  \n",
      " 7   rerun        10800 non-null  float64\n",
      " 8   camcol       12000 non-null  int64  \n",
      " 9   field        12000 non-null  int64  \n",
      " 10  ra           11421 non-null  float64\n",
      " 11  dec          12000 non-null  float64\n",
      " 12  sky_zone     12000 non-null  object \n",
      " 13  train_test   12000 non-null  int64  \n",
      " 14  object_type  0 non-null      float64\n",
      "dtypes: float64(9), int64(5), object(1)\n",
      "memory usage: 1.5+ MB\n"
     ]
    }
   ],
   "source": [
    "test_data.info()"
   ]
  },
  {
   "cell_type": "code",
   "execution_count": 446,
   "metadata": {},
   "outputs": [
    {
     "data": {
      "text/html": [
       "<div>\n",
       "<style scoped>\n",
       "    .dataframe tbody tr th:only-of-type {\n",
       "        vertical-align: middle;\n",
       "    }\n",
       "\n",
       "    .dataframe tbody tr th {\n",
       "        vertical-align: top;\n",
       "    }\n",
       "\n",
       "    .dataframe thead th {\n",
       "        text-align: right;\n",
       "    }\n",
       "</style>\n",
       "<table border=\"1\" class=\"dataframe\">\n",
       "  <thead>\n",
       "    <tr style=\"text-align: right;\">\n",
       "      <th></th>\n",
       "      <th>id</th>\n",
       "      <th>u</th>\n",
       "      <th>g</th>\n",
       "      <th>r</th>\n",
       "      <th>i</th>\n",
       "      <th>z</th>\n",
       "      <th>run</th>\n",
       "      <th>camcol</th>\n",
       "      <th>field</th>\n",
       "      <th>ra</th>\n",
       "      <th>dec</th>\n",
       "      <th>train_test</th>\n",
       "    </tr>\n",
       "  </thead>\n",
       "  <tbody>\n",
       "    <tr>\n",
       "      <th>count</th>\n",
       "      <td>17141.00000</td>\n",
       "      <td>17141.000000</td>\n",
       "      <td>17141.000000</td>\n",
       "      <td>17141.000000</td>\n",
       "      <td>17141.000000</td>\n",
       "      <td>17141.000000</td>\n",
       "      <td>17141.000000</td>\n",
       "      <td>17141.000000</td>\n",
       "      <td>17141.000000</td>\n",
       "      <td>17141.000000</td>\n",
       "      <td>17141.000000</td>\n",
       "      <td>17141.0</td>\n",
       "    </tr>\n",
       "    <tr>\n",
       "      <th>mean</th>\n",
       "      <td>9003.13914</td>\n",
       "      <td>18.674466</td>\n",
       "      <td>17.444946</td>\n",
       "      <td>16.916392</td>\n",
       "      <td>16.657984</td>\n",
       "      <td>16.499361</td>\n",
       "      <td>3976.666531</td>\n",
       "      <td>3.271863</td>\n",
       "      <td>176.435856</td>\n",
       "      <td>177.380056</td>\n",
       "      <td>25.447459</td>\n",
       "      <td>1.0</td>\n",
       "    </tr>\n",
       "    <tr>\n",
       "      <th>std</th>\n",
       "      <td>5204.14458</td>\n",
       "      <td>0.756761</td>\n",
       "      <td>0.918377</td>\n",
       "      <td>1.064300</td>\n",
       "      <td>1.147300</td>\n",
       "      <td>1.232288</td>\n",
       "      <td>1698.989429</td>\n",
       "      <td>1.624871</td>\n",
       "      <td>123.008810</td>\n",
       "      <td>77.639140</td>\n",
       "      <td>20.671453</td>\n",
       "      <td>0.0</td>\n",
       "    </tr>\n",
       "    <tr>\n",
       "      <th>min</th>\n",
       "      <td>1.00000</td>\n",
       "      <td>16.136800</td>\n",
       "      <td>14.476330</td>\n",
       "      <td>13.512680</td>\n",
       "      <td>13.043850</td>\n",
       "      <td>12.699370</td>\n",
       "      <td>109.000000</td>\n",
       "      <td>1.000000</td>\n",
       "      <td>11.000000</td>\n",
       "      <td>0.015177</td>\n",
       "      <td>-18.832743</td>\n",
       "      <td>1.0</td>\n",
       "    </tr>\n",
       "    <tr>\n",
       "      <th>25%</th>\n",
       "      <td>4487.00000</td>\n",
       "      <td>18.238590</td>\n",
       "      <td>16.885230</td>\n",
       "      <td>16.218420</td>\n",
       "      <td>15.881770</td>\n",
       "      <td>15.634890</td>\n",
       "      <td>2826.000000</td>\n",
       "      <td>2.000000</td>\n",
       "      <td>82.000000</td>\n",
       "      <td>137.198375</td>\n",
       "      <td>6.959491</td>\n",
       "      <td>1.0</td>\n",
       "    </tr>\n",
       "    <tr>\n",
       "      <th>50%</th>\n",
       "      <td>8991.00000</td>\n",
       "      <td>18.880640</td>\n",
       "      <td>17.528050</td>\n",
       "      <td>16.903300</td>\n",
       "      <td>16.613200</td>\n",
       "      <td>16.444510</td>\n",
       "      <td>3900.000000</td>\n",
       "      <td>3.000000</td>\n",
       "      <td>149.000000</td>\n",
       "      <td>180.211969</td>\n",
       "      <td>24.279789</td>\n",
       "      <td>1.0</td>\n",
       "    </tr>\n",
       "    <tr>\n",
       "      <th>75%</th>\n",
       "      <td>13516.00000</td>\n",
       "      <td>19.279510</td>\n",
       "      <td>18.060340</td>\n",
       "      <td>17.593870</td>\n",
       "      <td>17.354030</td>\n",
       "      <td>17.244100</td>\n",
       "      <td>5061.000000</td>\n",
       "      <td>5.000000</td>\n",
       "      <td>242.000000</td>\n",
       "      <td>223.324488</td>\n",
       "      <td>40.750115</td>\n",
       "      <td>1.0</td>\n",
       "    </tr>\n",
       "    <tr>\n",
       "      <th>max</th>\n",
       "      <td>18000.00000</td>\n",
       "      <td>19.599940</td>\n",
       "      <td>19.974990</td>\n",
       "      <td>19.852700</td>\n",
       "      <td>20.152190</td>\n",
       "      <td>20.326680</td>\n",
       "      <td>8162.000000</td>\n",
       "      <td>6.000000</td>\n",
       "      <td>615.000000</td>\n",
       "      <td>359.981852</td>\n",
       "      <td>84.277052</td>\n",
       "      <td>1.0</td>\n",
       "    </tr>\n",
       "  </tbody>\n",
       "</table>\n",
       "</div>"
      ],
      "text/plain": [
       "                id             u             g             r             i  \\\n",
       "count  17141.00000  17141.000000  17141.000000  17141.000000  17141.000000   \n",
       "mean    9003.13914     18.674466     17.444946     16.916392     16.657984   \n",
       "std     5204.14458      0.756761      0.918377      1.064300      1.147300   \n",
       "min        1.00000     16.136800     14.476330     13.512680     13.043850   \n",
       "25%     4487.00000     18.238590     16.885230     16.218420     15.881770   \n",
       "50%     8991.00000     18.880640     17.528050     16.903300     16.613200   \n",
       "75%    13516.00000     19.279510     18.060340     17.593870     17.354030   \n",
       "max    18000.00000     19.599940     19.974990     19.852700     20.152190   \n",
       "\n",
       "                  z           run        camcol         field            ra  \\\n",
       "count  17141.000000  17141.000000  17141.000000  17141.000000  17141.000000   \n",
       "mean      16.499361   3976.666531      3.271863    176.435856    177.380056   \n",
       "std        1.232288   1698.989429      1.624871    123.008810     77.639140   \n",
       "min       12.699370    109.000000      1.000000     11.000000      0.015177   \n",
       "25%       15.634890   2826.000000      2.000000     82.000000    137.198375   \n",
       "50%       16.444510   3900.000000      3.000000    149.000000    180.211969   \n",
       "75%       17.244100   5061.000000      5.000000    242.000000    223.324488   \n",
       "max       20.326680   8162.000000      6.000000    615.000000    359.981852   \n",
       "\n",
       "                dec  train_test  \n",
       "count  17141.000000     17141.0  \n",
       "mean      25.447459         1.0  \n",
       "std       20.671453         0.0  \n",
       "min      -18.832743         1.0  \n",
       "25%        6.959491         1.0  \n",
       "50%       24.279789         1.0  \n",
       "75%       40.750115         1.0  \n",
       "max       84.277052         1.0  "
      ]
     },
     "execution_count": 446,
     "metadata": {},
     "output_type": "execute_result"
    }
   ],
   "source": [
    "train_data.describe()"
   ]
  },
  {
   "cell_type": "code",
   "execution_count": null,
   "metadata": {},
   "outputs": [],
   "source": []
  },
  {
   "cell_type": "code",
   "execution_count": null,
   "metadata": {},
   "outputs": [],
   "source": []
  },
  {
   "cell_type": "code",
   "execution_count": null,
   "metadata": {},
   "outputs": [],
   "source": []
  },
  {
   "cell_type": "code",
   "execution_count": null,
   "metadata": {},
   "outputs": [],
   "source": []
  },
  {
   "cell_type": "code",
   "execution_count": null,
   "metadata": {},
   "outputs": [],
   "source": []
  },
  {
   "cell_type": "markdown",
   "metadata": {},
   "source": [
    "train_data['band'] = train_data['u']+train_data['g']+train_data['r']+train_data['i']+train_data['z']"
   ]
  },
  {
   "cell_type": "code",
   "execution_count": null,
   "metadata": {},
   "outputs": [],
   "source": []
  },
  {
   "cell_type": "code",
   "execution_count": 448,
   "metadata": {},
   "outputs": [],
   "source": [
    "df_num = train_data[['u','g','r','i','z', 'run', 'field', 'ra',\n",
    "       'dec']]\n",
    "df_cat = train_data[['camcol','sky_zone']]"
   ]
  },
  {
   "cell_type": "markdown",
   "metadata": {},
   "source": [
    "df_num = train_data[['band', 'run', 'rerun', 'field', 'ra',\n",
    "       'dec']]\n",
    "df_cat = train_data[['camcol','sky_zone']]"
   ]
  },
  {
   "cell_type": "code",
   "execution_count": 449,
   "metadata": {},
   "outputs": [
    {
     "data": {
      "image/png": "[encoded data removed]",
      "text/plain": [
       "<Figure size 432x288 with 1 Axes>"
      ]
     },
     "metadata": {
      "needs_background": "light"
     },
     "output_type": "display_data"
    },
    {
     "data": {
      "image/png": "[encoded data removed]",
      "text/plain": [
       "<Figure size 432x288 with 1 Axes>"
      ]
     },
     "metadata": {
      "needs_background": "light"
     },
     "output_type": "display_data"
    },
    {
     "data": {
      "image/png": "[encoded data removed]",
      "text/plain": [
       "<Figure size 432x288 with 1 Axes>"
      ]
     },
     "metadata": {
      "needs_background": "light"
     },
     "output_type": "display_data"
    },
    {
     "data": {
      "image/png": "[encoded data removed]",
      "text/plain": [
       "<Figure size 432x288 with 1 Axes>"
      ]
     },
     "metadata": {
      "needs_background": "light"
     },
     "output_type": "display_data"
    },
    {
     "data": {
      "image/png": "[encoded data removed]",
      "text/plain": [
       "<Figure size 432x288 with 1 Axes>"
      ]
     },
     "metadata": {
      "needs_background": "light"
     },
     "output_type": "display_data"
    },
    {
     "data": {
      "image/png": "[encoded data removed]",
      "text/plain": [
       "<Figure size 432x288 with 1 Axes>"
      ]
     },
     "metadata": {
      "needs_background": "light"
     },
     "output_type": "display_data"
    },
    {
     "data": {
      "image/png": "[encoded data removed]",
      "text/plain": [
       "<Figure size 432x288 with 1 Axes>"
      ]
     },
     "metadata": {
      "needs_background": "light"
     },
     "output_type": "display_data"
    },
    {
     "data": {
      "image/png": "[encoded data removed]",
      "text/plain": [
       "<Figure size 432x288 with 1 Axes>"
      ]
     },
     "metadata": {
      "needs_background": "light"
     },
     "output_type": "display_data"
    },
    {
     "data": {
      "image/png": "[encoded data removed]",
      "text/plain": [
       "<Figure size 432x288 with 1 Axes>"
      ]
     },
     "metadata": {
      "needs_background": "light"
     },
     "output_type": "display_data"
    }
   ],
   "source": [
    "for i in df_num.columns:\n",
    "    plt.hist(df_num[i])\n",
    "    plt.title(i)\n",
    "    plt.show()"
   ]
  },
  {
   "cell_type": "code",
   "execution_count": 450,
   "metadata": {},
   "outputs": [
    {
     "ename": "TypeError",
     "evalue": "bar() missing 1 required positional argument: 'height'",
     "output_type": "error",
     "traceback": [
      "\u001b[1;31m---------------------------------------------------------------------------\u001b[0m",
      "\u001b[1;31mTypeError\u001b[0m                                 Traceback (most recent call last)",
      "\u001b[1;32m<ipython-input-450-3e8f492fd193>\u001b[0m in \u001b[0;36m<module>\u001b[1;34m\u001b[0m\n\u001b[0;32m      1\u001b[0m \u001b[1;32mfor\u001b[0m \u001b[0mi\u001b[0m \u001b[1;32min\u001b[0m \u001b[0mdf_cat\u001b[0m\u001b[1;33m.\u001b[0m\u001b[0mcolumns\u001b[0m\u001b[1;33m:\u001b[0m\u001b[1;33m\u001b[0m\u001b[1;33m\u001b[0m\u001b[0m\n\u001b[1;32m----> 2\u001b[1;33m     \u001b[0mplt\u001b[0m\u001b[1;33m.\u001b[0m\u001b[0mbar\u001b[0m\u001b[1;33m(\u001b[0m\u001b[0mdf_cat\u001b[0m\u001b[1;33m[\u001b[0m\u001b[0mi\u001b[0m\u001b[1;33m]\u001b[0m\u001b[1;33m)\u001b[0m\u001b[1;33m\u001b[0m\u001b[1;33m\u001b[0m\u001b[0m\n\u001b[0m\u001b[0;32m      3\u001b[0m     \u001b[0mplt\u001b[0m\u001b[1;33m.\u001b[0m\u001b[0mtitle\u001b[0m\u001b[1;33m(\u001b[0m\u001b[0mi\u001b[0m\u001b[1;33m)\u001b[0m\u001b[1;33m\u001b[0m\u001b[1;33m\u001b[0m\u001b[0m\n\u001b[0;32m      4\u001b[0m     \u001b[0mplt\u001b[0m\u001b[1;33m.\u001b[0m\u001b[0mshow\u001b[0m\u001b[1;33m(\u001b[0m\u001b[1;33m)\u001b[0m\u001b[1;33m\u001b[0m\u001b[1;33m\u001b[0m\u001b[0m\n",
      "\u001b[1;31mTypeError\u001b[0m: bar() missing 1 required positional argument: 'height'"
     ]
    }
   ],
   "source": [
    "for i in df_cat.columns:\n",
    "    plt.bar(df_cat[i])\n",
    "    plt.title(i)\n",
    "    plt.show()"
   ]
  },
  {
   "cell_type": "code",
   "execution_count": null,
   "metadata": {},
   "outputs": [],
   "source": [
    "# Understand nature of the data .info() .describe()\n",
    "# Histograms and boxplots \n",
    "# Value counts \n",
    "# Missing data \n",
    "# Correlation between the metrics \n",
    "# Explore interesting themes \n",
    "    # Wealthy survive? \n",
    "    # By location \n",
    "    # Age scatterplot with ticket price \n",
    "    # Young and wealthy Variable? \n",
    "    # Total spent? \n",
    "# Feature engineering \n",
    "# preprocess data together or use a transformer? \n",
    "    # use label for train and test   \n",
    "# Scaling?\n",
    "\n",
    "# Model Baseline \n",
    "# Model comparison with CV "
   ]
  },
  {
   "cell_type": "code",
   "execution_count": null,
   "metadata": {},
   "outputs": [],
   "source": [
    "# devide Data between numeric and categorical (ints and floats = num and string or object = cat)"
   ]
  },
  {
   "cell_type": "code",
   "execution_count": 115,
   "metadata": {},
   "outputs": [
    {
     "data": {
      "text/plain": [
       "86.00806008132136"
      ]
     },
     "execution_count": 115,
     "metadata": {},
     "output_type": "execute_result"
    }
   ],
   "source": [
    "train_data['band'].mean()"
   ]
  },
  {
   "cell_type": "code",
   "execution_count": 113,
   "metadata": {},
   "outputs": [
    {
     "data": {
      "text/plain": [
       "<AxesSubplot:xlabel='camcol', ylabel='band'>"
      ]
     },
     "execution_count": 113,
     "metadata": {},
     "output_type": "execute_result"
    },
    {
     "data": {
      "image/png": "[encoded data removed]",
      "text/plain": [
       "<Figure size 432x288 with 1 Axes>"
      ]
     },
     "metadata": {
      "needs_background": "light"
     },
     "output_type": "display_data"
    }
   ],
   "source": [
    "sns.boxplot(data=train_data,y='band',x='camcol')"
   ]
  },
  {
   "cell_type": "code",
   "execution_count": 451,
   "metadata": {},
   "outputs": [
    {
     "data": {
      "text/plain": [
       "<AxesSubplot:xlabel='sky_zone', ylabel='ra'>"
      ]
     },
     "execution_count": 451,
     "metadata": {},
     "output_type": "execute_result"
    },
    {
     "data": {
      "image/png": "[encoded data removed]",
      "text/plain": [
       "<Figure size 432x288 with 1 Axes>"
      ]
     },
     "metadata": {
      "needs_background": "light"
     },
     "output_type": "display_data"
    }
   ],
   "source": [
    "sns.boxplot(data=all_data,y='ra',x='sky_zone')"
   ]
  },
  {
   "cell_type": "code",
   "execution_count": 107,
   "metadata": {},
   "outputs": [
    {
     "data": {
      "text/plain": [
       "sky_zone\n",
       "A    179.352183\n",
       "B    138.731101\n",
       "C    339.020089\n",
       "D    151.247119\n",
       "E    226.958641\n",
       "F    183.477288\n",
       "G    249.426643\n",
       "H    117.928054\n",
       "I    211.574558\n",
       "J     25.245311\n",
       "Name: ra, dtype: float64"
      ]
     },
     "execution_count": 107,
     "metadata": {},
     "output_type": "execute_result"
    }
   ],
   "source": [
    "all_data.groupby(['sky_zone'])[\"ra\"].mean()"
   ]
  },
  {
   "cell_type": "code",
   "execution_count": 21,
   "metadata": {},
   "outputs": [
    {
     "data": {
      "text/plain": [
       "<AxesSubplot:xlabel='object_type', ylabel='i'>"
      ]
     },
     "execution_count": 21,
     "metadata": {},
     "output_type": "execute_result"
    },
    {
     "data": {
      "image/png": "[encoded data removed]",
      "text/plain": [
       "<Figure size 432x288 with 1 Axes>"
      ]
     },
     "metadata": {
      "needs_background": "light"
     },
     "output_type": "display_data"
    }
   ],
   "source": [
    "sns.boxplot(data=train_data,y='i',x='object_type')"
   ]
  },
  {
   "cell_type": "code",
   "execution_count": 253,
   "metadata": {},
   "outputs": [
    {
     "data": {
      "text/plain": [
       "<AxesSubplot:xlabel='object_type', ylabel='ra'>"
      ]
     },
     "execution_count": 253,
     "metadata": {},
     "output_type": "execute_result"
    },
    {
     "data": {
      "image/png": "[encoded data removed]",
      "text/plain": [
       "<Figure size 432x288 with 1 Axes>"
      ]
     },
     "metadata": {
      "needs_background": "light"
     },
     "output_type": "display_data"
    }
   ],
   "source": [
    "sns.boxplot(data=train_data,y='ra',x='object_type')"
   ]
  },
  {
   "cell_type": "code",
   "execution_count": null,
   "metadata": {},
   "outputs": [],
   "source": []
  },
  {
   "cell_type": "code",
   "execution_count": 452,
   "metadata": {},
   "outputs": [
    {
     "name": "stdout",
     "output_type": "stream",
     "text": [
      "              u         g         r         i         z       run     field  \\\n",
      "u      1.000000  0.819928  0.660229  0.583204  0.523731  0.019054  0.009054   \n",
      "g      0.819928  1.000000  0.961981  0.922257  0.888741  0.023150  0.008283   \n",
      "r      0.660229  0.961981  1.000000  0.987827  0.974499  0.021785  0.003739   \n",
      "i      0.583204  0.922257  0.987827  1.000000  0.991380  0.025941  0.000213   \n",
      "z      0.523731  0.888741  0.974499  0.991380  1.000000  0.026924 -0.001168   \n",
      "run    0.019054  0.023150  0.021785  0.025941  0.026924  1.000000 -0.170425   \n",
      "field  0.009054  0.008283  0.003739  0.000213 -0.001168 -0.170425  1.000000   \n",
      "ra     0.009278  0.008660  0.002951 -0.001853 -0.006850 -0.056827  0.018650   \n",
      "dec   -0.029660 -0.010795 -0.000776  0.002341  0.008162 -0.066706 -0.079199   \n",
      "\n",
      "             ra       dec  \n",
      "u      0.009278 -0.029660  \n",
      "g      0.008660 -0.010795  \n",
      "r      0.002951 -0.000776  \n",
      "i     -0.001853  0.002341  \n",
      "z     -0.006850  0.008162  \n",
      "run   -0.056827 -0.066706  \n",
      "field  0.018650 -0.079199  \n",
      "ra     1.000000  0.078776  \n",
      "dec    0.078776  1.000000  \n"
     ]
    },
    {
     "data": {
      "text/plain": [
       "<AxesSubplot:>"
      ]
     },
     "execution_count": 452,
     "metadata": {},
     "output_type": "execute_result"
    },
    {
     "data": {
      "image/png": "[encoded data removed]",
      "text/plain": [
       "<Figure size 432x288 with 2 Axes>"
      ]
     },
     "metadata": {
      "needs_background": "light"
     },
     "output_type": "display_data"
    }
   ],
   "source": [
    "print(df_num.corr())\n",
    "sns.heatmap(df_num.corr())"
   ]
  },
  {
   "cell_type": "code",
   "execution_count": 58,
   "metadata": {},
   "outputs": [
    {
     "data": {
      "text/html": [
       "<div>\n",
       "<style scoped>\n",
       "    .dataframe tbody tr th:only-of-type {\n",
       "        vertical-align: middle;\n",
       "    }\n",
       "\n",
       "    .dataframe tbody tr th {\n",
       "        vertical-align: top;\n",
       "    }\n",
       "\n",
       "    .dataframe thead th {\n",
       "        text-align: right;\n",
       "    }\n",
       "</style>\n",
       "<table border=\"1\" class=\"dataframe\">\n",
       "  <thead>\n",
       "    <tr style=\"text-align: right;\">\n",
       "      <th></th>\n",
       "      <th>dec</th>\n",
       "      <th>ra</th>\n",
       "      <th>run</th>\n",
       "    </tr>\n",
       "    <tr>\n",
       "      <th>object_type</th>\n",
       "      <th></th>\n",
       "      <th></th>\n",
       "      <th></th>\n",
       "    </tr>\n",
       "  </thead>\n",
       "  <tbody>\n",
       "    <tr>\n",
       "      <th>1</th>\n",
       "      <td>25.000731</td>\n",
       "      <td>182.554999</td>\n",
       "      <td>3793.638619</td>\n",
       "    </tr>\n",
       "    <tr>\n",
       "      <th>2</th>\n",
       "      <td>25.187779</td>\n",
       "      <td>171.599856</td>\n",
       "      <td>4155.767350</td>\n",
       "    </tr>\n",
       "    <tr>\n",
       "      <th>3</th>\n",
       "      <td>26.034411</td>\n",
       "      <td>176.441835</td>\n",
       "      <td>4136.125263</td>\n",
       "    </tr>\n",
       "  </tbody>\n",
       "</table>\n",
       "</div>"
      ],
      "text/plain": [
       "                   dec          ra          run\n",
       "object_type                                    \n",
       "1            25.000731  182.554999  3793.638619\n",
       "2            25.187779  171.599856  4155.767350\n",
       "3            26.034411  176.441835  4136.125263"
      ]
     },
     "execution_count": 58,
     "metadata": {},
     "output_type": "execute_result"
    }
   ],
   "source": [
    "pd.pivot_table(train_data, index = 'object_type', values = ['run','ra','dec'])"
   ]
  },
  {
   "cell_type": "code",
   "execution_count": 453,
   "metadata": {},
   "outputs": [
    {
     "data": {
      "image/png": "[encoded data removed]",
      "text/plain": [
       "<Figure size 432x288 with 1 Axes>"
      ]
     },
     "metadata": {
      "needs_background": "light"
     },
     "output_type": "display_data"
    },
    {
     "data": {
      "image/png": "[encoded data removed]",
      "text/plain": [
       "<Figure size 432x288 with 1 Axes>"
      ]
     },
     "metadata": {
      "needs_background": "light"
     },
     "output_type": "display_data"
    }
   ],
   "source": [
    "for i in df_cat.columns:\n",
    "    sns.barplot(df_cat[i].value_counts().index,df_cat[i].value_counts()).set_title(i)\n",
    "    plt.show()"
   ]
  },
  {
   "cell_type": "code",
   "execution_count": null,
   "metadata": {},
   "outputs": [],
   "source": [
    "     \n",
    "    "
   ]
  },
  {
   "cell_type": "code",
   "execution_count": 24,
   "metadata": {},
   "outputs": [],
   "source": [
    "def f1(x):\n",
    "    ra=x[0]\n",
    "    skyzone=x[1]\n",
    "    if pd.isnull(ra):\n",
    "        if skyzone == 'B':\n",
    "            return 138.731101\n",
    "        elif skyzone == 'A':\n",
    "            return 179.731101\n",
    "        elif skyzone == 'D':\n",
    "            return 151.247119\n",
    "        elif skyzone == 'E':\n",
    "            return 226.958641\n",
    "        elif skyzone == 'F':\n",
    "            return 183.477288\n",
    "        elif skyzone == 'C':\n",
    "            return 339.020089\n",
    "        elif skyzone == 'G':\n",
    "            return 249.426643\n",
    "        elif skyzone == 'H':\n",
    "            return 117.928054\n",
    "        elif skyzone == 'I':\n",
    "            return 211.574558\n",
    "        else:\n",
    "             return 25.245311\n",
    "    else:\n",
    "        return ra"
   ]
  },
  {
   "cell_type": "code",
   "execution_count": 454,
   "metadata": {},
   "outputs": [],
   "source": [
    "all_data['ra']=all_data[['ra','sky_zone']].apply(f1,axis=1)"
   ]
  },
  {
   "cell_type": "code",
   "execution_count": 455,
   "metadata": {},
   "outputs": [
    {
     "name": "stdout",
     "output_type": "stream",
     "text": [
      "<class 'pandas.core.frame.DataFrame'>\n",
      "Int64Index: 29141 entries, 0 to 11999\n",
      "Data columns (total 15 columns):\n",
      " #   Column       Non-Null Count  Dtype  \n",
      "---  ------       --------------  -----  \n",
      " 0   id           29141 non-null  int64  \n",
      " 1   u            29141 non-null  float64\n",
      " 2   g            29141 non-null  float64\n",
      " 3   r            29141 non-null  float64\n",
      " 4   i            29141 non-null  float64\n",
      " 5   z            29141 non-null  float64\n",
      " 6   run          29141 non-null  int64  \n",
      " 7   camcol       29141 non-null  int64  \n",
      " 8   field        29141 non-null  float64\n",
      " 9   ra           29141 non-null  float64\n",
      " 10  dec          29141 non-null  float64\n",
      " 11  sky_zone     29141 non-null  object \n",
      " 12  object_type  17141 non-null  object \n",
      " 13  train_test   29141 non-null  int64  \n",
      " 14  rerun        10800 non-null  float64\n",
      "dtypes: float64(9), int64(4), object(2)\n",
      "memory usage: 4.2+ MB\n"
     ]
    }
   ],
   "source": [
    "all_data.info()"
   ]
  },
  {
   "cell_type": "code",
   "execution_count": 456,
   "metadata": {},
   "outputs": [
    {
     "data": {
      "text/plain": [
       "Index(['id', 'u', 'g', 'r', 'i', 'z', 'run', 'camcol', 'field', 'ra', 'dec',\n",
       "       'sky_zone', 'object_type', 'train_test', 'rerun'],\n",
       "      dtype='object')"
      ]
     },
     "execution_count": 456,
     "metadata": {},
     "output_type": "execute_result"
    }
   ],
   "source": [
    "all_data.columns"
   ]
  },
  {
   "cell_type": "markdown",
   "metadata": {},
   "source": [
    "#impute nulls for continuous data \n",
    "#all_data.Age = all_data.Age.fillna(training.Age.mean())\n",
    "\n",
    "#all_data.band\n",
    "all_data['u'] = all_data['u']+all_data['g']+all_data['r']+all_data['i']+all_data['z']\n",
    "all_data = all_data.drop(['u','g','r','i','z'], axis =1)\n",
    "all_data['band'] = all_data['band'].fillna(all_data['band'].mean())\n",
    "# log norm of fare (used)\n",
    "#all_data['norm_fare'] = np.log(all_data.Fare+1)\n",
    "#all_data['norm_fare'].hist()\n",
    "\n",
    "\n",
    "\n",
    "\n",
    "\n",
    "#Split to train test again\n"
   ]
  },
  {
   "cell_type": "code",
   "execution_count": 457,
   "metadata": {},
   "outputs": [],
   "source": [
    "all_data['u'] = all_data['u'].fillna(all_data['u'].mean())\n",
    "all_data['g'] = all_data['g'].fillna(all_data['u'].mean())\n",
    "all_data['r'] = all_data['r'].fillna(all_data['u'].mean())\n",
    "all_data['i'] = all_data['i'].fillna(all_data['u'].mean())\n",
    "all_data['z'] = all_data['z'].fillna(all_data['u'].mean())"
   ]
  },
  {
   "cell_type": "code",
   "execution_count": 458,
   "metadata": {},
   "outputs": [
    {
     "data": {
      "text/plain": [
       "Index(['id', 'u', 'g', 'r', 'i', 'z', 'run', 'camcol', 'field', 'ra', 'dec',\n",
       "       'sky_zone', 'object_type', 'train_test', 'rerun'],\n",
       "      dtype='object')"
      ]
     },
     "execution_count": 458,
     "metadata": {},
     "output_type": "execute_result"
    }
   ],
   "source": [
    "all_data.columns"
   ]
  },
  {
   "cell_type": "code",
   "execution_count": 652,
   "metadata": {},
   "outputs": [
    {
     "data": {
      "text/html": [
       "<div>\n",
       "<style scoped>\n",
       "    .dataframe tbody tr th:only-of-type {\n",
       "        vertical-align: middle;\n",
       "    }\n",
       "\n",
       "    .dataframe tbody tr th {\n",
       "        vertical-align: top;\n",
       "    }\n",
       "\n",
       "    .dataframe thead th {\n",
       "        text-align: right;\n",
       "    }\n",
       "</style>\n",
       "<table border=\"1\" class=\"dataframe\">\n",
       "  <thead>\n",
       "    <tr style=\"text-align: right;\">\n",
       "      <th></th>\n",
       "      <th>u</th>\n",
       "      <th>g</th>\n",
       "      <th>r</th>\n",
       "      <th>i</th>\n",
       "      <th>z</th>\n",
       "      <th>ra</th>\n",
       "      <th>train_test</th>\n",
       "      <th>object_type</th>\n",
       "    </tr>\n",
       "  </thead>\n",
       "  <tbody>\n",
       "    <tr>\n",
       "      <th>0</th>\n",
       "      <td>18.45886</td>\n",
       "      <td>17.24552</td>\n",
       "      <td>16.65724</td>\n",
       "      <td>16.27922</td>\n",
       "      <td>16.07007</td>\n",
       "      <td>214.002267</td>\n",
       "      <td>1</td>\n",
       "      <td>1</td>\n",
       "    </tr>\n",
       "    <tr>\n",
       "      <th>1</th>\n",
       "      <td>18.50274</td>\n",
       "      <td>17.50821</td>\n",
       "      <td>17.19507</td>\n",
       "      <td>17.07868</td>\n",
       "      <td>17.08054</td>\n",
       "      <td>220.688333</td>\n",
       "      <td>1</td>\n",
       "      <td>2</td>\n",
       "    </tr>\n",
       "    <tr>\n",
       "      <th>2</th>\n",
       "      <td>18.69451</td>\n",
       "      <td>17.30333</td>\n",
       "      <td>16.48301</td>\n",
       "      <td>16.05570</td>\n",
       "      <td>15.75763</td>\n",
       "      <td>249.118754</td>\n",
       "      <td>1</td>\n",
       "      <td>1</td>\n",
       "    </tr>\n",
       "    <tr>\n",
       "      <th>3</th>\n",
       "      <td>19.34373</td>\n",
       "      <td>18.32701</td>\n",
       "      <td>17.97602</td>\n",
       "      <td>17.82627</td>\n",
       "      <td>17.75770</td>\n",
       "      <td>330.633293</td>\n",
       "      <td>1</td>\n",
       "      <td>2</td>\n",
       "    </tr>\n",
       "    <tr>\n",
       "      <th>4</th>\n",
       "      <td>19.33328</td>\n",
       "      <td>18.13790</td>\n",
       "      <td>17.58180</td>\n",
       "      <td>17.21341</td>\n",
       "      <td>16.99397</td>\n",
       "      <td>339.020089</td>\n",
       "      <td>1</td>\n",
       "      <td>1</td>\n",
       "    </tr>\n",
       "    <tr>\n",
       "      <th>...</th>\n",
       "      <td>...</td>\n",
       "      <td>...</td>\n",
       "      <td>...</td>\n",
       "      <td>...</td>\n",
       "      <td>...</td>\n",
       "      <td>...</td>\n",
       "      <td>...</td>\n",
       "      <td>...</td>\n",
       "    </tr>\n",
       "    <tr>\n",
       "      <th>11995</th>\n",
       "      <td>19.36869</td>\n",
       "      <td>18.00328</td>\n",
       "      <td>18.08442</td>\n",
       "      <td>18.19245</td>\n",
       "      <td>18.25524</td>\n",
       "      <td>292.277001</td>\n",
       "      <td>0</td>\n",
       "      <td>NaN</td>\n",
       "    </tr>\n",
       "    <tr>\n",
       "      <th>11996</th>\n",
       "      <td>17.91410</td>\n",
       "      <td>16.40229</td>\n",
       "      <td>15.63961</td>\n",
       "      <td>15.17997</td>\n",
       "      <td>14.90172</td>\n",
       "      <td>132.478684</td>\n",
       "      <td>0</td>\n",
       "      <td>NaN</td>\n",
       "    </tr>\n",
       "    <tr>\n",
       "      <th>11997</th>\n",
       "      <td>19.19980</td>\n",
       "      <td>17.49400</td>\n",
       "      <td>16.54597</td>\n",
       "      <td>16.02917</td>\n",
       "      <td>15.60198</td>\n",
       "      <td>20.388668</td>\n",
       "      <td>0</td>\n",
       "      <td>NaN</td>\n",
       "    </tr>\n",
       "    <tr>\n",
       "      <th>11998</th>\n",
       "      <td>18.94944</td>\n",
       "      <td>17.76070</td>\n",
       "      <td>17.59710</td>\n",
       "      <td>17.55043</td>\n",
       "      <td>17.55842</td>\n",
       "      <td>258.789492</td>\n",
       "      <td>0</td>\n",
       "      <td>NaN</td>\n",
       "    </tr>\n",
       "    <tr>\n",
       "      <th>11999</th>\n",
       "      <td>18.26765</td>\n",
       "      <td>17.22773</td>\n",
       "      <td>16.82597</td>\n",
       "      <td>16.65923</td>\n",
       "      <td>16.61649</td>\n",
       "      <td>149.279866</td>\n",
       "      <td>0</td>\n",
       "      <td>NaN</td>\n",
       "    </tr>\n",
       "  </tbody>\n",
       "</table>\n",
       "<p>29141 rows × 8 columns</p>\n",
       "</div>"
      ],
      "text/plain": [
       "              u         g         r         i         z          ra  \\\n",
       "0      18.45886  17.24552  16.65724  16.27922  16.07007  214.002267   \n",
       "1      18.50274  17.50821  17.19507  17.07868  17.08054  220.688333   \n",
       "2      18.69451  17.30333  16.48301  16.05570  15.75763  249.118754   \n",
       "3      19.34373  18.32701  17.97602  17.82627  17.75770  330.633293   \n",
       "4      19.33328  18.13790  17.58180  17.21341  16.99397  339.020089   \n",
       "...         ...       ...       ...       ...       ...         ...   \n",
       "11995  19.36869  18.00328  18.08442  18.19245  18.25524  292.277001   \n",
       "11996  17.91410  16.40229  15.63961  15.17997  14.90172  132.478684   \n",
       "11997  19.19980  17.49400  16.54597  16.02917  15.60198   20.388668   \n",
       "11998  18.94944  17.76070  17.59710  17.55043  17.55842  258.789492   \n",
       "11999  18.26765  17.22773  16.82597  16.65923  16.61649  149.279866   \n",
       "\n",
       "       train_test object_type  \n",
       "0               1           1  \n",
       "1               1           2  \n",
       "2               1           1  \n",
       "3               1           2  \n",
       "4               1           1  \n",
       "...           ...         ...  \n",
       "11995           0         NaN  \n",
       "11996           0         NaN  \n",
       "11997           0         NaN  \n",
       "11998           0         NaN  \n",
       "11999           0         NaN  \n",
       "\n",
       "[29141 rows x 8 columns]"
      ]
     },
     "execution_count": 652,
     "metadata": {},
     "output_type": "execute_result"
    }
   ],
   "source": [
    "#created dummy variables from categories (also can use OneHotEncoder)\n",
    "all_dummies = pd.get_dummies(all_data[[ 'u','g','r','i','z','ra',\n",
    "        'train_test']])\n",
    "all_dummies['object_type'] = all_data['object_type']\n",
    "all_dummies"
   ]
  },
  {
   "cell_type": "code",
   "execution_count": 653,
   "metadata": {},
   "outputs": [
    {
     "data": {
      "text/plain": [
       "(17141,)"
      ]
     },
     "execution_count": 653,
     "metadata": {},
     "output_type": "execute_result"
    }
   ],
   "source": [
    "X_T = all_dummies[all_dummies.train_test == 1].drop(['train_test'], axis =1)\n",
    "test = all_dummies[all_dummies.train_test == 0].drop(['train_test'], axis =1)\n",
    "\n",
    "\n",
    "y_T = all_data[all_data.train_test==1].object_type\n",
    "y_T.shape"
   ]
  },
  {
   "cell_type": "code",
   "execution_count": 654,
   "metadata": {},
   "outputs": [],
   "source": [
    "test = test.drop(['object_type'], axis =1)"
   ]
  },
  {
   "cell_type": "code",
   "execution_count": 655,
   "metadata": {},
   "outputs": [
    {
     "data": {
      "text/html": [
       "<div>\n",
       "<style scoped>\n",
       "    .dataframe tbody tr th:only-of-type {\n",
       "        vertical-align: middle;\n",
       "    }\n",
       "\n",
       "    .dataframe tbody tr th {\n",
       "        vertical-align: top;\n",
       "    }\n",
       "\n",
       "    .dataframe thead th {\n",
       "        text-align: right;\n",
       "    }\n",
       "</style>\n",
       "<table border=\"1\" class=\"dataframe\">\n",
       "  <thead>\n",
       "    <tr style=\"text-align: right;\">\n",
       "      <th></th>\n",
       "      <th>u</th>\n",
       "      <th>g</th>\n",
       "      <th>r</th>\n",
       "      <th>i</th>\n",
       "      <th>z</th>\n",
       "      <th>ra</th>\n",
       "    </tr>\n",
       "  </thead>\n",
       "  <tbody>\n",
       "    <tr>\n",
       "      <th>0</th>\n",
       "      <td>17.77804</td>\n",
       "      <td>16.40338</td>\n",
       "      <td>15.69551</td>\n",
       "      <td>15.51029</td>\n",
       "      <td>15.41648</td>\n",
       "      <td>105.295891</td>\n",
       "    </tr>\n",
       "    <tr>\n",
       "      <th>1</th>\n",
       "      <td>19.17646</td>\n",
       "      <td>18.08458</td>\n",
       "      <td>17.01220</td>\n",
       "      <td>16.35536</td>\n",
       "      <td>15.94323</td>\n",
       "      <td>178.795262</td>\n",
       "    </tr>\n",
       "    <tr>\n",
       "      <th>2</th>\n",
       "      <td>18.97518</td>\n",
       "      <td>17.53847</td>\n",
       "      <td>16.98310</td>\n",
       "      <td>16.66949</td>\n",
       "      <td>16.62293</td>\n",
       "      <td>226.759800</td>\n",
       "    </tr>\n",
       "    <tr>\n",
       "      <th>3</th>\n",
       "      <td>19.48538</td>\n",
       "      <td>17.55220</td>\n",
       "      <td>16.57528</td>\n",
       "      <td>16.13803</td>\n",
       "      <td>15.76700</td>\n",
       "      <td>177.735503</td>\n",
       "    </tr>\n",
       "    <tr>\n",
       "      <th>4</th>\n",
       "      <td>19.09216</td>\n",
       "      <td>17.81581</td>\n",
       "      <td>17.10279</td>\n",
       "      <td>16.66293</td>\n",
       "      <td>16.48639</td>\n",
       "      <td>132.988928</td>\n",
       "    </tr>\n",
       "    <tr>\n",
       "      <th>...</th>\n",
       "      <td>...</td>\n",
       "      <td>...</td>\n",
       "      <td>...</td>\n",
       "      <td>...</td>\n",
       "      <td>...</td>\n",
       "      <td>...</td>\n",
       "    </tr>\n",
       "    <tr>\n",
       "      <th>11995</th>\n",
       "      <td>19.36869</td>\n",
       "      <td>18.00328</td>\n",
       "      <td>18.08442</td>\n",
       "      <td>18.19245</td>\n",
       "      <td>18.25524</td>\n",
       "      <td>292.277001</td>\n",
       "    </tr>\n",
       "    <tr>\n",
       "      <th>11996</th>\n",
       "      <td>17.91410</td>\n",
       "      <td>16.40229</td>\n",
       "      <td>15.63961</td>\n",
       "      <td>15.17997</td>\n",
       "      <td>14.90172</td>\n",
       "      <td>132.478684</td>\n",
       "    </tr>\n",
       "    <tr>\n",
       "      <th>11997</th>\n",
       "      <td>19.19980</td>\n",
       "      <td>17.49400</td>\n",
       "      <td>16.54597</td>\n",
       "      <td>16.02917</td>\n",
       "      <td>15.60198</td>\n",
       "      <td>20.388668</td>\n",
       "    </tr>\n",
       "    <tr>\n",
       "      <th>11998</th>\n",
       "      <td>18.94944</td>\n",
       "      <td>17.76070</td>\n",
       "      <td>17.59710</td>\n",
       "      <td>17.55043</td>\n",
       "      <td>17.55842</td>\n",
       "      <td>258.789492</td>\n",
       "    </tr>\n",
       "    <tr>\n",
       "      <th>11999</th>\n",
       "      <td>18.26765</td>\n",
       "      <td>17.22773</td>\n",
       "      <td>16.82597</td>\n",
       "      <td>16.65923</td>\n",
       "      <td>16.61649</td>\n",
       "      <td>149.279866</td>\n",
       "    </tr>\n",
       "  </tbody>\n",
       "</table>\n",
       "<p>12000 rows × 6 columns</p>\n",
       "</div>"
      ],
      "text/plain": [
       "              u         g         r         i         z          ra\n",
       "0      17.77804  16.40338  15.69551  15.51029  15.41648  105.295891\n",
       "1      19.17646  18.08458  17.01220  16.35536  15.94323  178.795262\n",
       "2      18.97518  17.53847  16.98310  16.66949  16.62293  226.759800\n",
       "3      19.48538  17.55220  16.57528  16.13803  15.76700  177.735503\n",
       "4      19.09216  17.81581  17.10279  16.66293  16.48639  132.988928\n",
       "...         ...       ...       ...       ...       ...         ...\n",
       "11995  19.36869  18.00328  18.08442  18.19245  18.25524  292.277001\n",
       "11996  17.91410  16.40229  15.63961  15.17997  14.90172  132.478684\n",
       "11997  19.19980  17.49400  16.54597  16.02917  15.60198   20.388668\n",
       "11998  18.94944  17.76070  17.59710  17.55043  17.55842  258.789492\n",
       "11999  18.26765  17.22773  16.82597  16.65923  16.61649  149.279866\n",
       "\n",
       "[12000 rows x 6 columns]"
      ]
     },
     "execution_count": 655,
     "metadata": {},
     "output_type": "execute_result"
    }
   ],
   "source": [
    "test"
   ]
  },
  {
   "cell_type": "code",
   "execution_count": 656,
   "metadata": {},
   "outputs": [],
   "source": [
    "X_T = X_T.drop(['object_type'],axis=1)"
   ]
  },
  {
   "cell_type": "code",
   "execution_count": 657,
   "metadata": {},
   "outputs": [],
   "source": [
    "y_T = y_T.astype('int')"
   ]
  },
  {
   "cell_type": "code",
   "execution_count": 658,
   "metadata": {},
   "outputs": [],
   "source": [
    "from sklearn.model_selection import train_test_split\n",
    "\n",
    "\n",
    "X_train, X_test, y_train, y_test = train_test_split(X_T, y_T, test_size = 0.33, random_state = 42)"
   ]
  },
  {
   "cell_type": "code",
   "execution_count": 659,
   "metadata": {},
   "outputs": [
    {
     "data": {
      "text/plain": [
       "((11484, 6), (5657, 6))"
      ]
     },
     "execution_count": 659,
     "metadata": {},
     "output_type": "execute_result"
    }
   ],
   "source": [
    "# check the shape of X_train and X_test\n",
    "\n",
    "X_train.shape, X_test.shape"
   ]
  },
  {
   "cell_type": "code",
   "execution_count": 660,
   "metadata": {},
   "outputs": [
    {
     "data": {
      "text/html": [
       "<div>\n",
       "<style scoped>\n",
       "    .dataframe tbody tr th:only-of-type {\n",
       "        vertical-align: middle;\n",
       "    }\n",
       "\n",
       "    .dataframe tbody tr th {\n",
       "        vertical-align: top;\n",
       "    }\n",
       "\n",
       "    .dataframe thead th {\n",
       "        text-align: right;\n",
       "    }\n",
       "</style>\n",
       "<table border=\"1\" class=\"dataframe\">\n",
       "  <thead>\n",
       "    <tr style=\"text-align: right;\">\n",
       "      <th></th>\n",
       "      <th>u</th>\n",
       "      <th>g</th>\n",
       "      <th>r</th>\n",
       "      <th>i</th>\n",
       "      <th>z</th>\n",
       "      <th>ra</th>\n",
       "    </tr>\n",
       "  </thead>\n",
       "  <tbody>\n",
       "    <tr>\n",
       "      <th>11870</th>\n",
       "      <td>16.92593</td>\n",
       "      <td>15.53495</td>\n",
       "      <td>14.81468</td>\n",
       "      <td>14.39031</td>\n",
       "      <td>14.07576</td>\n",
       "      <td>39.542193</td>\n",
       "    </tr>\n",
       "    <tr>\n",
       "      <th>10346</th>\n",
       "      <td>18.70181</td>\n",
       "      <td>17.33557</td>\n",
       "      <td>16.79667</td>\n",
       "      <td>16.63337</td>\n",
       "      <td>16.58250</td>\n",
       "      <td>172.637854</td>\n",
       "    </tr>\n",
       "    <tr>\n",
       "      <th>17463</th>\n",
       "      <td>17.44752</td>\n",
       "      <td>16.19886</td>\n",
       "      <td>15.57781</td>\n",
       "      <td>15.23023</td>\n",
       "      <td>14.98586</td>\n",
       "      <td>192.709052</td>\n",
       "    </tr>\n",
       "    <tr>\n",
       "      <th>17005</th>\n",
       "      <td>19.57093</td>\n",
       "      <td>18.03618</td>\n",
       "      <td>17.37953</td>\n",
       "      <td>16.95993</td>\n",
       "      <td>16.66891</td>\n",
       "      <td>195.028108</td>\n",
       "    </tr>\n",
       "    <tr>\n",
       "      <th>16255</th>\n",
       "      <td>18.46703</td>\n",
       "      <td>17.26136</td>\n",
       "      <td>17.15802</td>\n",
       "      <td>17.14555</td>\n",
       "      <td>17.17502</td>\n",
       "      <td>312.836160</td>\n",
       "    </tr>\n",
       "    <tr>\n",
       "      <th>...</th>\n",
       "      <td>...</td>\n",
       "      <td>...</td>\n",
       "      <td>...</td>\n",
       "      <td>...</td>\n",
       "      <td>...</td>\n",
       "      <td>...</td>\n",
       "    </tr>\n",
       "    <tr>\n",
       "      <th>11864</th>\n",
       "      <td>19.43259</td>\n",
       "      <td>19.40827</td>\n",
       "      <td>19.27391</td>\n",
       "      <td>19.17638</td>\n",
       "      <td>19.28618</td>\n",
       "      <td>167.661792</td>\n",
       "    </tr>\n",
       "    <tr>\n",
       "      <th>12577</th>\n",
       "      <td>18.45278</td>\n",
       "      <td>17.53133</td>\n",
       "      <td>17.22200</td>\n",
       "      <td>17.00956</td>\n",
       "      <td>16.88108</td>\n",
       "      <td>122.377309</td>\n",
       "    </tr>\n",
       "    <tr>\n",
       "      <th>5651</th>\n",
       "      <td>18.83817</td>\n",
       "      <td>16.91757</td>\n",
       "      <td>15.94397</td>\n",
       "      <td>15.46176</td>\n",
       "      <td>15.11189</td>\n",
       "      <td>17.638379</td>\n",
       "    </tr>\n",
       "    <tr>\n",
       "      <th>903</th>\n",
       "      <td>18.42989</td>\n",
       "      <td>16.72645</td>\n",
       "      <td>15.86598</td>\n",
       "      <td>15.42127</td>\n",
       "      <td>15.08526</td>\n",
       "      <td>241.424216</td>\n",
       "    </tr>\n",
       "    <tr>\n",
       "      <th>16599</th>\n",
       "      <td>19.22336</td>\n",
       "      <td>18.22578</td>\n",
       "      <td>17.84630</td>\n",
       "      <td>17.70852</td>\n",
       "      <td>17.65059</td>\n",
       "      <td>17.411121</td>\n",
       "    </tr>\n",
       "  </tbody>\n",
       "</table>\n",
       "<p>11484 rows × 6 columns</p>\n",
       "</div>"
      ],
      "text/plain": [
       "              u         g         r         i         z          ra\n",
       "11870  16.92593  15.53495  14.81468  14.39031  14.07576   39.542193\n",
       "10346  18.70181  17.33557  16.79667  16.63337  16.58250  172.637854\n",
       "17463  17.44752  16.19886  15.57781  15.23023  14.98586  192.709052\n",
       "17005  19.57093  18.03618  17.37953  16.95993  16.66891  195.028108\n",
       "16255  18.46703  17.26136  17.15802  17.14555  17.17502  312.836160\n",
       "...         ...       ...       ...       ...       ...         ...\n",
       "11864  19.43259  19.40827  19.27391  19.17638  19.28618  167.661792\n",
       "12577  18.45278  17.53133  17.22200  17.00956  16.88108  122.377309\n",
       "5651   18.83817  16.91757  15.94397  15.46176  15.11189   17.638379\n",
       "903    18.42989  16.72645  15.86598  15.42127  15.08526  241.424216\n",
       "16599  19.22336  18.22578  17.84630  17.70852  17.65059   17.411121\n",
       "\n",
       "[11484 rows x 6 columns]"
      ]
     },
     "execution_count": 660,
     "metadata": {},
     "output_type": "execute_result"
    }
   ],
   "source": [
    "X_train"
   ]
  },
  {
   "cell_type": "code",
   "execution_count": 661,
   "metadata": {},
   "outputs": [
    {
     "data": {
      "text/plain": [
       "11870    1\n",
       "10346    2\n",
       "17463    1\n",
       "17005    1\n",
       "16255    2\n",
       "        ..\n",
       "11864    3\n",
       "12577    1\n",
       "5651     1\n",
       "903      1\n",
       "16599    2\n",
       "Name: object_type, Length: 11484, dtype: int32"
      ]
     },
     "execution_count": 661,
     "metadata": {},
     "output_type": "execute_result"
    }
   ],
   "source": [
    "y_train"
   ]
  },
  {
   "cell_type": "markdown",
   "metadata": {},
   "source": [
    "# Decision Tree"
   ]
  },
  {
   "cell_type": "code",
   "execution_count": 662,
   "metadata": {},
   "outputs": [],
   "source": [
    "from sklearn.tree import DecisionTreeClassifier\n",
    "from sklearn.metrics import classification_report, confusion_matrix\n",
    "classifier = DecisionTreeClassifier(random_state = 42)\n"
   ]
  },
  {
   "cell_type": "code",
   "execution_count": 663,
   "metadata": {},
   "outputs": [
    {
     "data": {
      "text/plain": [
       "DecisionTreeClassifier(random_state=42)"
      ]
     },
     "execution_count": 663,
     "metadata": {},
     "output_type": "execute_result"
    }
   ],
   "source": [
    "classifier.fit(X_train, y_train)"
   ]
  },
  {
   "cell_type": "code",
   "execution_count": 664,
   "metadata": {},
   "outputs": [],
   "source": [
    "y_pred = classifier.predict(X_test)"
   ]
  },
  {
   "cell_type": "code",
   "execution_count": 665,
   "metadata": {},
   "outputs": [
    {
     "name": "stdout",
     "output_type": "stream",
     "text": [
      "[[2619  227   44]\n",
      " [ 235 1908   26]\n",
      " [  51   31  516]]\n",
      "Test set score: 0.8915\n"
     ]
    }
   ],
   "source": [
    "print(confusion_matrix(y_test, y_pred))\n",
    "print('Test set score: {:.4f}'.format(classifier.score(X_test, y_test)))"
   ]
  },
  {
   "cell_type": "code",
   "execution_count": 666,
   "metadata": {},
   "outputs": [
    {
     "name": "stdout",
     "output_type": "stream",
     "text": [
      "Model accuracy score with 100 decision-trees : 0.9302\n"
     ]
    }
   ],
   "source": [
    "from sklearn.ensemble import RandomForestClassifier\n",
    "from sklearn.metrics import accuracy_score\n",
    "\n",
    "# instantiate the classifier with n_estimators = 100\n",
    "\n",
    "rfc_100 = RandomForestClassifier(n_estimators=100, random_state=0)\n",
    "\n",
    "\n",
    "\n",
    "# fit the model to the training set\n",
    "\n",
    "rfc_100.fit(X_train, y_train)\n",
    "\n",
    "\n",
    "\n",
    "# Predict on the test set results\n",
    "\n",
    "y_pred_100 = rfc_100.predict(X_test)\n",
    "\n",
    "\n",
    "\n",
    "# Check accuracy score \n",
    "\n",
    "print('Model accuracy score with 100 decision-trees : {0:0.4f}'. format(accuracy_score(y_test, y_pred_100)))"
   ]
  },
  {
   "cell_type": "code",
   "execution_count": 667,
   "metadata": {},
   "outputs": [
    {
     "data": {
      "text/plain": [
       "RandomForestClassifier(random_state=42)"
      ]
     },
     "execution_count": 667,
     "metadata": {},
     "output_type": "execute_result"
    }
   ],
   "source": [
    "# create the classifier with n_estimators = 100\n",
    "\n",
    "clf = RandomForestClassifier(n_estimators=100, random_state=42)\n",
    "\n",
    "\n",
    "\n",
    "# fit the model to the training set\n",
    "\n",
    "clf.fit(X_train, y_train)"
   ]
  },
  {
   "cell_type": "code",
   "execution_count": 668,
   "metadata": {},
   "outputs": [
    {
     "data": {
      "text/plain": [
       "z     0.255476\n",
       "r     0.176286\n",
       "i     0.163822\n",
       "u     0.157151\n",
       "g     0.152369\n",
       "ra    0.094896\n",
       "dtype: float64"
      ]
     },
     "execution_count": 668,
     "metadata": {},
     "output_type": "execute_result"
    }
   ],
   "source": [
    "feature_scores = pd.Series(clf.feature_importances_, index=X_train.columns).sort_values(ascending=False)\n",
    "\n",
    "feature_scores"
   ]
  },
  {
   "cell_type": "code",
   "execution_count": 669,
   "metadata": {},
   "outputs": [
    {
     "data": {
      "image/png": "[encoded data removed]",
      "text/plain": [
       "<Figure size 432x288 with 1 Axes>"
      ]
     },
     "metadata": {
      "needs_background": "light"
     },
     "output_type": "display_data"
    }
   ],
   "source": [
    "sns.barplot(x=feature_scores, y=feature_scores.index)\n",
    "\n",
    "\n",
    "\n",
    "# Add labels to the graph\n",
    "\n",
    "plt.xlabel('Feature Importance Score')\n",
    "\n",
    "plt.ylabel('Features')\n",
    "\n",
    "\n",
    "\n",
    "# Add title to the graph\n",
    "\n",
    "plt.title(\"Visualizing Important Features\")\n",
    "\n",
    "\n",
    "\n",
    "# Visualize the graph\n",
    "\n",
    "plt.show()\n"
   ]
  },
  {
   "cell_type": "code",
   "execution_count": null,
   "metadata": {},
   "outputs": [],
   "source": []
  },
  {
   "cell_type": "markdown",
   "metadata": {},
   "source": [
    "# XGBOOST"
   ]
  },
  {
   "cell_type": "code",
   "execution_count": 670,
   "metadata": {},
   "outputs": [],
   "source": [
    "import xgboost"
   ]
  },
  {
   "cell_type": "code",
   "execution_count": 671,
   "metadata": {},
   "outputs": [
    {
     "name": "stdout",
     "output_type": "stream",
     "text": [
      "[20:03:15] WARNING: C:/Users/Administrator/workspace/xgboost-win64_release_1.4.0/src/learner.cc:1095: Starting in XGBoost 1.3.0, the default evaluation metric used with the objective 'multi:softprob' was changed from 'merror' to 'mlogloss'. Explicitly set eval_metric if you'd like to restore the old behavior.\n",
      "Accuracy = 0.9410\n"
     ]
    },
    {
     "data": {
      "image/png": "[encoded data removed]",
      "text/plain": [
       "<Figure size 432x288 with 2 Axes>"
      ]
     },
     "metadata": {
      "needs_background": "light"
     },
     "output_type": "display_data"
    }
   ],
   "source": [
    "from sklearn.metrics import plot_confusion_matrix\n",
    "\n",
    "xgb_tree = xgboost.XGBClassifier(objective=\"multi:logistic\", random_state=42)\n",
    "xgb_tree.fit(X_train, y_train)\n",
    "predictions = xgb_tree.predict(X_test)\n",
    "\n",
    "print(\"Accuracy = {0:.4f}\".format(accuracy_score(y_test,xgb_tree.predict(X_test))))\n",
    "plot_confusion_matrix(xgb_tree, X_test, y_test, y_test.unique(), cmap=plt.cm.Blues);"
   ]
  },
  {
   "cell_type": "code",
   "execution_count": 672,
   "metadata": {},
   "outputs": [],
   "source": [
    "xgans = xgb_tree.predict(test)"
   ]
  },
  {
   "cell_type": "code",
   "execution_count": 673,
   "metadata": {},
   "outputs": [],
   "source": [
    "xgbattempt = test_data"
   ]
  },
  {
   "cell_type": "code",
   "execution_count": 674,
   "metadata": {},
   "outputs": [],
   "source": [
    "xgbattempt['object_type'] = xgans"
   ]
  },
  {
   "cell_type": "code",
   "execution_count": 675,
   "metadata": {},
   "outputs": [],
   "source": [
    "for i in range(len(xgbattempt['object_type'])):\n",
    "    if xgbattempt['object_type'][i] == 1:\n",
    "        xgbattempt['object_type'][i] = 'GALAXY'\n",
    "    elif xgbattempt['object_type'][i] == 2:\n",
    "        xgbattempt['object_type'][i] = 'STAR'\n",
    "    else:\n",
    "        xgbattempt['object_type'][i] = 'QUASAR'"
   ]
  },
  {
   "cell_type": "code",
   "execution_count": 676,
   "metadata": {},
   "outputs": [],
   "source": [
    "xgbattempt[['id','object_type']].to_csv('attempt9.csv',index= False)"
   ]
  },
  {
   "cell_type": "code",
   "execution_count": null,
   "metadata": {},
   "outputs": [],
   "source": []
  },
  {
   "cell_type": "code",
   "execution_count": null,
   "metadata": {},
   "outputs": [],
   "source": []
  },
  {
   "cell_type": "code",
   "execution_count": 56,
   "metadata": {},
   "outputs": [
    {
     "data": {
      "text/plain": [
       "<AxesSubplot:>"
      ]
     },
     "execution_count": 56,
     "metadata": {},
     "output_type": "execute_result"
    },
    {
     "data": {
      "image/png": "[encoded data removed]",
      "text/plain": [
       "<Figure size 720x720 with 1 Axes>"
      ]
     },
     "metadata": {
      "needs_background": "light"
     },
     "output_type": "display_data"
    }
   ],
   "source": [
    "plt.figure(figsize=(10,10))\n",
    "X_T.boxplot(['u','g','i','r','z', 'ra','field','dec','run'], grid=False, fontsize=15)"
   ]
  },
  {
   "cell_type": "code",
   "execution_count": 485,
   "metadata": {},
   "outputs": [],
   "source": [
    "Xst = X_train"
   ]
  },
  {
   "cell_type": "code",
   "execution_count": 486,
   "metadata": {},
   "outputs": [],
   "source": [
    "Xtst = X_test"
   ]
  },
  {
   "cell_type": "code",
   "execution_count": 487,
   "metadata": {},
   "outputs": [],
   "source": [
    "SVCTest = test"
   ]
  },
  {
   "cell_type": "code",
   "execution_count": 488,
   "metadata": {},
   "outputs": [
    {
     "data": {
      "text/plain": [
       "array([[ 1.69259300e+01,  1.55349500e+01,  1.48146800e+01, ...,\n",
       "         7.90800000e+03,  3.95421927e+01, -7.36286573e+00],\n",
       "       [ 1.87018100e+01,  1.73355700e+01,  1.67966700e+01, ...,\n",
       "         5.97600000e+03,  1.72637854e+02, -6.21110927e+00],\n",
       "       [ 1.74475200e+01,  1.61988600e+01,  1.55778100e+01, ...,\n",
       "         3.71200000e+03,  1.92709052e+02,  5.73444803e+01],\n",
       "       ...,\n",
       "       [ 1.88381700e+01,  1.69175700e+01,  1.59439700e+01, ...,\n",
       "         4.82900000e+03,  1.76383789e+01,  1.40228687e+01],\n",
       "       [ 1.84298900e+01,  1.67264500e+01,  1.58659800e+01, ...,\n",
       "         3.22500000e+03,  2.41424216e+02,  4.42333727e+01],\n",
       "       [ 1.92233600e+01,  1.82257800e+01,  1.78463000e+01, ...,\n",
       "         4.82900000e+03,  1.74111209e+01,  1.64281215e+01]])"
      ]
     },
     "execution_count": 488,
     "metadata": {},
     "output_type": "execute_result"
    }
   ],
   "source": [
    "ST = Xst.values # We do not take the class label\n",
    "ST"
   ]
  },
  {
   "cell_type": "code",
   "execution_count": 489,
   "metadata": {},
   "outputs": [
    {
     "data": {
      "text/plain": [
       "array([[  19.17167   ,   17.95456   ,   17.87904   , ..., 6004.        ,\n",
       "         120.41395962,    6.83136888],\n",
       "       [  19.55344   ,   18.34906   ,   18.01021   , ..., 6004.        ,\n",
       "         131.56091777,   10.97703252],\n",
       "       [  19.01632   ,   18.00202   ,   17.60062   , ..., 2830.        ,\n",
       "         165.37488569,   50.98184455],\n",
       "       ...,\n",
       "       [  19.25991   ,   17.32903   ,   16.4254    , ..., 4646.        ,\n",
       "         206.3362179 ,   29.5113358 ],\n",
       "       [  17.66068   ,   15.92288   ,   15.07515   , ..., 2964.        ,\n",
       "         229.6620833 ,   40.75006977],\n",
       "       [  18.8504    ,   16.95148   ,   15.99324   , ..., 1402.        ,\n",
       "         114.7521842 ,   39.69802146]])"
      ]
     },
     "execution_count": 489,
     "metadata": {},
     "output_type": "execute_result"
    }
   ],
   "source": [
    "TST = Xtst.values # We do not take the class label\n",
    "TST"
   ]
  },
  {
   "cell_type": "code",
   "execution_count": 490,
   "metadata": {},
   "outputs": [],
   "source": [
    "SVC = SVCTest.values"
   ]
  },
  {
   "cell_type": "code",
   "execution_count": 491,
   "metadata": {},
   "outputs": [],
   "source": [
    "from sklearn.preprocessing import StandardScaler\n",
    "\n",
    "Xst.iloc[:,0:9] = StandardScaler().fit_transform(ST) # normalizing the features\n",
    "df_st = Xst\n"
   ]
  },
  {
   "cell_type": "code",
   "execution_count": 492,
   "metadata": {},
   "outputs": [],
   "source": [
    "from sklearn.preprocessing import StandardScaler\n",
    "\n",
    "Xtst.iloc[:,0:9] = StandardScaler().fit_transform(TST) # normalizing the features\n",
    "df_test = Xtst\n"
   ]
  },
  {
   "cell_type": "code",
   "execution_count": 493,
   "metadata": {},
   "outputs": [],
   "source": [
    "SVCTest.iloc[:,0:9] = StandardScaler().fit_transform(SVC) # normalizing the features\n",
    "svcTest = SVCTest"
   ]
  },
  {
   "cell_type": "code",
   "execution_count": 494,
   "metadata": {},
   "outputs": [
    {
     "data": {
      "text/plain": [
       "<AxesSubplot:>"
      ]
     },
     "execution_count": 494,
     "metadata": {},
     "output_type": "execute_result"
    },
    {
     "data": {
      "image/png": "[encoded data removed]",
      "text/plain": [
       "<Figure size 432x288 with 1 Axes>"
      ]
     },
     "metadata": {
      "needs_background": "light"
     },
     "output_type": "display_data"
    }
   ],
   "source": [
    "df_st.boxplot(grid=False, fontsize=15)"
   ]
  },
  {
   "cell_type": "code",
   "execution_count": 495,
   "metadata": {},
   "outputs": [
    {
     "data": {
      "text/plain": [
       "<AxesSubplot:>"
      ]
     },
     "execution_count": 495,
     "metadata": {},
     "output_type": "execute_result"
    },
    {
     "data": {
      "image/png": "[encoded data removed]",
      "text/plain": [
       "<Figure size 432x288 with 1 Axes>"
      ]
     },
     "metadata": {
      "needs_background": "light"
     },
     "output_type": "display_data"
    }
   ],
   "source": [
    "df_test.boxplot(grid=False, fontsize=15)"
   ]
  },
  {
   "cell_type": "code",
   "execution_count": 496,
   "metadata": {},
   "outputs": [
    {
     "data": {
      "text/plain": [
       "<AxesSubplot:>"
      ]
     },
     "execution_count": 496,
     "metadata": {},
     "output_type": "execute_result"
    },
    {
     "data": {
      "image/png": "[encoded data removed]",
      "text/plain": [
       "<Figure size 432x288 with 1 Axes>"
      ]
     },
     "metadata": {
      "needs_background": "light"
     },
     "output_type": "display_data"
    }
   ],
   "source": [
    "svcTest.boxplot(grid=False, fontsize=15)"
   ]
  },
  {
   "cell_type": "code",
   "execution_count": 497,
   "metadata": {},
   "outputs": [],
   "source": [
    "from sklearn.svm import SVC\n",
    "from sklearn import svm"
   ]
  },
  {
   "cell_type": "code",
   "execution_count": 498,
   "metadata": {},
   "outputs": [],
   "source": [
    "from sklearn.model_selection import GridSearchCV\n",
    "param_grid = {\"C\":[0.5,1,5,10], \"gamma\":[0.01,0.0001,0.00001]}\n",
    "\n",
    "estimator = GridSearchCV(svm.SVC(kernel='linear'), param_grid, cv=5)\n",
    "estimator.fit(df_st, y_train);"
   ]
  },
  {
   "cell_type": "code",
   "execution_count": 499,
   "metadata": {},
   "outputs": [
    {
     "name": "stdout",
     "output_type": "stream",
     "text": [
      "The best parameters are {'C': 10, 'gamma': 0.01} with a score of 0.95\n"
     ]
    },
    {
     "data": {
      "image/png": "[encoded data removed]",
      "text/plain": [
       "<Figure size 720x720 with 2 Axes>"
      ]
     },
     "metadata": {
      "needs_background": "light"
     },
     "output_type": "display_data"
    }
   ],
   "source": [
    "print(\"The best parameters are %s with a score of %0.2f\"\n",
    "      % (estimator.best_params_, estimator.best_score_))\n",
    "\n",
    "\n",
    "scores = estimator.cv_results_['mean_test_score'].reshape(len(param_grid['C']), len(param_grid['gamma']))\n",
    "\n",
    "# Draw heatmap of the validation accuracy as a function of gamma and C\n",
    "\n",
    "plt.figure(figsize=(10, 10))\n",
    "plt.subplots_adjust(left=.2, right=0.95, bottom=0.15, top=0.95)\n",
    "plt.imshow(scores, interpolation='nearest', cmap=plt.cm.Blues)\n",
    "plt.xlabel('gamma')\n",
    "plt.ylabel('C')\n",
    "plt.colorbar()\n",
    "plt.xticks(np.arange(len(param_grid['gamma'])), param_grid['gamma'], rotation=45)\n",
    "plt.yticks(np.arange(len(param_grid['C'])), param_grid['C'])\n",
    "plt.title('Validation accuracy')\n",
    "plt.show()"
   ]
  },
  {
   "cell_type": "code",
   "execution_count": 500,
   "metadata": {},
   "outputs": [
    {
     "data": {
      "text/plain": [
       "SVC(C=10, gamma=0.01, kernel='linear')"
      ]
     },
     "execution_count": 500,
     "metadata": {},
     "output_type": "execute_result"
    }
   ],
   "source": [
    "C = 10\n",
    "\n",
    "clf = svm.SVC(C,kernel='linear', gamma = 0.01)\n",
    "clf.fit(df_st, y_train)"
   ]
  },
  {
   "cell_type": "code",
   "execution_count": 501,
   "metadata": {},
   "outputs": [
    {
     "name": "stdout",
     "output_type": "stream",
     "text": [
      "Naive Bayes Accuracy = 0.9526250662895528\n"
     ]
    },
    {
     "data": {
      "image/png": "[encoded data removed]",
      "text/plain": [
       "<Figure size 432x288 with 2 Axes>"
      ]
     },
     "metadata": {
      "needs_background": "light"
     },
     "output_type": "display_data"
    }
   ],
   "source": [
    "from sklearn.metrics import plot_confusion_matrix, accuracy_score\n",
    "\n",
    "# Predict labels on test\n",
    "predictions = clf.predict(df_test)\n",
    "\n",
    "print(\"Naive Bayes Accuracy = {}\".format(accuracy_score(clf.predict(X_test), y_test)))\n",
    "plot_confusion_matrix(clf, X_test, y_test, [1,2,3], cmap=plt.cm.Blues);"
   ]
  },
  {
   "cell_type": "code",
   "execution_count": 1,
   "metadata": {},
   "outputs": [
    {
     "ename": "NameError",
     "evalue": "name 'clf' is not defined",
     "output_type": "error",
     "traceback": [
      "\u001b[1;31m---------------------------------------------------------------------------\u001b[0m",
      "\u001b[1;31mNameError\u001b[0m                                 Traceback (most recent call last)",
      "\u001b[1;32m<ipython-input-1-06d8f15d1d67>\u001b[0m in \u001b[0;36m<module>\u001b[1;34m\u001b[0m\n\u001b[1;32m----> 1\u001b[1;33m \u001b[0msvcans\u001b[0m \u001b[1;33m=\u001b[0m \u001b[0mclf\u001b[0m\u001b[1;33m.\u001b[0m\u001b[0mpredict\u001b[0m\u001b[1;33m(\u001b[0m\u001b[0msvcTest\u001b[0m\u001b[1;33m)\u001b[0m\u001b[1;33m\u001b[0m\u001b[1;33m\u001b[0m\u001b[0m\n\u001b[0m",
      "\u001b[1;31mNameError\u001b[0m: name 'clf' is not defined"
     ]
    }
   ],
   "source": [
    "svcans = clf.predict(svcTest)"
   ]
  },
  {
   "cell_type": "code",
   "execution_count": 503,
   "metadata": {},
   "outputs": [],
   "source": [
    "svcattempt = test_data"
   ]
  },
  {
   "cell_type": "code",
   "execution_count": 504,
   "metadata": {},
   "outputs": [],
   "source": [
    "svcattempt['object_type'] = svcans"
   ]
  },
  {
   "cell_type": "code",
   "execution_count": 505,
   "metadata": {},
   "outputs": [],
   "source": [
    "for i in range(len(svcattempt['object_type'])):\n",
    "    if svcattempt['object_type'][i] == 1:\n",
    "        svcattempt['object_type'][i] = 'GALAXY'\n",
    "    elif svcattempt['object_type'][i] == 2:\n",
    "        svcattempt['object_type'][i] = 'STAR'\n",
    "    else:\n",
    "        svcattempt['object_type'][i] = 'QUASAR'"
   ]
  },
  {
   "cell_type": "code",
   "execution_count": 506,
   "metadata": {},
   "outputs": [],
   "source": [
    "svcattempt[['id','object_type']].to_csv('attempt3.csv',index= False)"
   ]
  },
  {
   "cell_type": "code",
   "execution_count": null,
   "metadata": {},
   "outputs": [],
   "source": []
  }
 ],
 "metadata": {
  "kernelspec": {
   "display_name": "Python 3",
   "language": "python",
   "name": "python3"
  },
  "language_info": {
   "codemirror_mode": {
    "name": "ipython",
    "version": 3
   },
   "file_extension": ".py",
   "mimetype": "text/x-python",
   "name": "python",
   "nbconvert_exporter": "python",
   "pygments_lexer": "ipython3",
   "version": "3.8.5"
  }
 },
 "nbformat": 4,
 "nbformat_minor": 4
}
